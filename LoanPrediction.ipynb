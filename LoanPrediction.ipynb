{
 "cells": [
  {
   "cell_type": "markdown",
   "metadata": {},
   "source": [
    "### First Insights\n",
    "\n",
    "I start off with importing basic libraries and taking the first look at the data.\n",
    "Columns haven't been explicitly described in the source of the dataset, nevertheless their names seem to be clear enough to get the idea what they depict."
   ]
  },
  {
   "cell_type": "code",
   "execution_count": 1,
   "metadata": {},
   "outputs": [],
   "source": [
    "import pandas as pd\n",
    "import numpy as np\n",
    "import matplotlib.pyplot as plt\n",
    "import seaborn as sns\n",
    "%matplotlib inline"
   ]
  },
  {
   "cell_type": "code",
   "execution_count": 2,
   "metadata": {},
   "outputs": [],
   "source": [
    "train = pd.read_csv('loan_train.csv')\n",
    "test = pd.read_csv('loan_test.csv')"
   ]
  },
  {
   "cell_type": "code",
   "execution_count": 3,
   "metadata": {},
   "outputs": [
    {
     "data": {
      "text/plain": [
       "(614, 13)"
      ]
     },
     "execution_count": 3,
     "metadata": {},
     "output_type": "execute_result"
    }
   ],
   "source": [
    "train.shape"
   ]
  },
  {
   "cell_type": "code",
   "execution_count": 4,
   "metadata": {},
   "outputs": [
    {
     "data": {
      "text/plain": [
       "(367, 12)"
      ]
     },
     "execution_count": 4,
     "metadata": {},
     "output_type": "execute_result"
    }
   ],
   "source": [
    "test.shape"
   ]
  },
  {
   "cell_type": "code",
   "execution_count": 5,
   "metadata": {},
   "outputs": [
    {
     "data": {
      "text/plain": [
       "Index(['Loan_ID', 'Gender', 'Married', 'Dependents', 'Education',\n",
       "       'Self_Employed', 'ApplicantIncome', 'CoapplicantIncome', 'LoanAmount',\n",
       "       'Loan_Amount_Term', 'Credit_History', 'Property_Area', 'Loan_Status'],\n",
       "      dtype='object')"
      ]
     },
     "execution_count": 5,
     "metadata": {},
     "output_type": "execute_result"
    }
   ],
   "source": [
    "train.columns"
   ]
  },
  {
   "cell_type": "code",
   "execution_count": 6,
   "metadata": {},
   "outputs": [
    {
     "data": {
      "text/plain": [
       "Index(['Loan_ID', 'Gender', 'Married', 'Dependents', 'Education',\n",
       "       'Self_Employed', 'ApplicantIncome', 'CoapplicantIncome', 'LoanAmount',\n",
       "       'Loan_Amount_Term', 'Credit_History', 'Property_Area'],\n",
       "      dtype='object')"
      ]
     },
     "execution_count": 6,
     "metadata": {},
     "output_type": "execute_result"
    }
   ],
   "source": [
    "test.columns"
   ]
  },
  {
   "cell_type": "code",
   "execution_count": 7,
   "metadata": {},
   "outputs": [
    {
     "data": {
      "text/html": [
       "<div>\n",
       "<style scoped>\n",
       "    .dataframe tbody tr th:only-of-type {\n",
       "        vertical-align: middle;\n",
       "    }\n",
       "\n",
       "    .dataframe tbody tr th {\n",
       "        vertical-align: top;\n",
       "    }\n",
       "\n",
       "    .dataframe thead th {\n",
       "        text-align: right;\n",
       "    }\n",
       "</style>\n",
       "<table border=\"1\" class=\"dataframe\">\n",
       "  <thead>\n",
       "    <tr style=\"text-align: right;\">\n",
       "      <th></th>\n",
       "      <th>Loan_ID</th>\n",
       "      <th>Gender</th>\n",
       "      <th>Married</th>\n",
       "      <th>Dependents</th>\n",
       "      <th>Education</th>\n",
       "      <th>Self_Employed</th>\n",
       "      <th>ApplicantIncome</th>\n",
       "      <th>CoapplicantIncome</th>\n",
       "      <th>LoanAmount</th>\n",
       "      <th>Loan_Amount_Term</th>\n",
       "      <th>Credit_History</th>\n",
       "      <th>Property_Area</th>\n",
       "      <th>Loan_Status</th>\n",
       "    </tr>\n",
       "  </thead>\n",
       "  <tbody>\n",
       "    <tr>\n",
       "      <th>0</th>\n",
       "      <td>LP001002</td>\n",
       "      <td>Male</td>\n",
       "      <td>No</td>\n",
       "      <td>0</td>\n",
       "      <td>Graduate</td>\n",
       "      <td>No</td>\n",
       "      <td>5849</td>\n",
       "      <td>0.0</td>\n",
       "      <td>NaN</td>\n",
       "      <td>360.0</td>\n",
       "      <td>1.0</td>\n",
       "      <td>Urban</td>\n",
       "      <td>Y</td>\n",
       "    </tr>\n",
       "    <tr>\n",
       "      <th>1</th>\n",
       "      <td>LP001003</td>\n",
       "      <td>Male</td>\n",
       "      <td>Yes</td>\n",
       "      <td>1</td>\n",
       "      <td>Graduate</td>\n",
       "      <td>No</td>\n",
       "      <td>4583</td>\n",
       "      <td>1508.0</td>\n",
       "      <td>128.0</td>\n",
       "      <td>360.0</td>\n",
       "      <td>1.0</td>\n",
       "      <td>Rural</td>\n",
       "      <td>N</td>\n",
       "    </tr>\n",
       "    <tr>\n",
       "      <th>2</th>\n",
       "      <td>LP001005</td>\n",
       "      <td>Male</td>\n",
       "      <td>Yes</td>\n",
       "      <td>0</td>\n",
       "      <td>Graduate</td>\n",
       "      <td>Yes</td>\n",
       "      <td>3000</td>\n",
       "      <td>0.0</td>\n",
       "      <td>66.0</td>\n",
       "      <td>360.0</td>\n",
       "      <td>1.0</td>\n",
       "      <td>Urban</td>\n",
       "      <td>Y</td>\n",
       "    </tr>\n",
       "    <tr>\n",
       "      <th>3</th>\n",
       "      <td>LP001006</td>\n",
       "      <td>Male</td>\n",
       "      <td>Yes</td>\n",
       "      <td>0</td>\n",
       "      <td>Not Graduate</td>\n",
       "      <td>No</td>\n",
       "      <td>2583</td>\n",
       "      <td>2358.0</td>\n",
       "      <td>120.0</td>\n",
       "      <td>360.0</td>\n",
       "      <td>1.0</td>\n",
       "      <td>Urban</td>\n",
       "      <td>Y</td>\n",
       "    </tr>\n",
       "    <tr>\n",
       "      <th>4</th>\n",
       "      <td>LP001008</td>\n",
       "      <td>Male</td>\n",
       "      <td>No</td>\n",
       "      <td>0</td>\n",
       "      <td>Graduate</td>\n",
       "      <td>No</td>\n",
       "      <td>6000</td>\n",
       "      <td>0.0</td>\n",
       "      <td>141.0</td>\n",
       "      <td>360.0</td>\n",
       "      <td>1.0</td>\n",
       "      <td>Urban</td>\n",
       "      <td>Y</td>\n",
       "    </tr>\n",
       "  </tbody>\n",
       "</table>\n",
       "</div>"
      ],
      "text/plain": [
       "    Loan_ID Gender Married Dependents     Education Self_Employed  \\\n",
       "0  LP001002   Male      No          0      Graduate            No   \n",
       "1  LP001003   Male     Yes          1      Graduate            No   \n",
       "2  LP001005   Male     Yes          0      Graduate           Yes   \n",
       "3  LP001006   Male     Yes          0  Not Graduate            No   \n",
       "4  LP001008   Male      No          0      Graduate            No   \n",
       "\n",
       "   ApplicantIncome  CoapplicantIncome  LoanAmount  Loan_Amount_Term  \\\n",
       "0             5849                0.0         NaN             360.0   \n",
       "1             4583             1508.0       128.0             360.0   \n",
       "2             3000                0.0        66.0             360.0   \n",
       "3             2583             2358.0       120.0             360.0   \n",
       "4             6000                0.0       141.0             360.0   \n",
       "\n",
       "   Credit_History Property_Area Loan_Status  \n",
       "0             1.0         Urban           Y  \n",
       "1             1.0         Rural           N  \n",
       "2             1.0         Urban           Y  \n",
       "3             1.0         Urban           Y  \n",
       "4             1.0         Urban           Y  "
      ]
     },
     "execution_count": 7,
     "metadata": {},
     "output_type": "execute_result"
    }
   ],
   "source": [
    "train.head()"
   ]
  },
  {
   "cell_type": "code",
   "execution_count": 8,
   "metadata": {},
   "outputs": [
    {
     "data": {
      "text/html": [
       "<div>\n",
       "<style scoped>\n",
       "    .dataframe tbody tr th:only-of-type {\n",
       "        vertical-align: middle;\n",
       "    }\n",
       "\n",
       "    .dataframe tbody tr th {\n",
       "        vertical-align: top;\n",
       "    }\n",
       "\n",
       "    .dataframe thead th {\n",
       "        text-align: right;\n",
       "    }\n",
       "</style>\n",
       "<table border=\"1\" class=\"dataframe\">\n",
       "  <thead>\n",
       "    <tr style=\"text-align: right;\">\n",
       "      <th></th>\n",
       "      <th>Loan_ID</th>\n",
       "      <th>Gender</th>\n",
       "      <th>Married</th>\n",
       "      <th>Dependents</th>\n",
       "      <th>Education</th>\n",
       "      <th>Self_Employed</th>\n",
       "      <th>ApplicantIncome</th>\n",
       "      <th>CoapplicantIncome</th>\n",
       "      <th>LoanAmount</th>\n",
       "      <th>Loan_Amount_Term</th>\n",
       "      <th>Credit_History</th>\n",
       "      <th>Property_Area</th>\n",
       "    </tr>\n",
       "  </thead>\n",
       "  <tbody>\n",
       "    <tr>\n",
       "      <th>0</th>\n",
       "      <td>LP001015</td>\n",
       "      <td>Male</td>\n",
       "      <td>Yes</td>\n",
       "      <td>0</td>\n",
       "      <td>Graduate</td>\n",
       "      <td>No</td>\n",
       "      <td>5720</td>\n",
       "      <td>0</td>\n",
       "      <td>110.0</td>\n",
       "      <td>360.0</td>\n",
       "      <td>1.0</td>\n",
       "      <td>Urban</td>\n",
       "    </tr>\n",
       "    <tr>\n",
       "      <th>1</th>\n",
       "      <td>LP001022</td>\n",
       "      <td>Male</td>\n",
       "      <td>Yes</td>\n",
       "      <td>1</td>\n",
       "      <td>Graduate</td>\n",
       "      <td>No</td>\n",
       "      <td>3076</td>\n",
       "      <td>1500</td>\n",
       "      <td>126.0</td>\n",
       "      <td>360.0</td>\n",
       "      <td>1.0</td>\n",
       "      <td>Urban</td>\n",
       "    </tr>\n",
       "    <tr>\n",
       "      <th>2</th>\n",
       "      <td>LP001031</td>\n",
       "      <td>Male</td>\n",
       "      <td>Yes</td>\n",
       "      <td>2</td>\n",
       "      <td>Graduate</td>\n",
       "      <td>No</td>\n",
       "      <td>5000</td>\n",
       "      <td>1800</td>\n",
       "      <td>208.0</td>\n",
       "      <td>360.0</td>\n",
       "      <td>1.0</td>\n",
       "      <td>Urban</td>\n",
       "    </tr>\n",
       "    <tr>\n",
       "      <th>3</th>\n",
       "      <td>LP001035</td>\n",
       "      <td>Male</td>\n",
       "      <td>Yes</td>\n",
       "      <td>2</td>\n",
       "      <td>Graduate</td>\n",
       "      <td>No</td>\n",
       "      <td>2340</td>\n",
       "      <td>2546</td>\n",
       "      <td>100.0</td>\n",
       "      <td>360.0</td>\n",
       "      <td>NaN</td>\n",
       "      <td>Urban</td>\n",
       "    </tr>\n",
       "    <tr>\n",
       "      <th>4</th>\n",
       "      <td>LP001051</td>\n",
       "      <td>Male</td>\n",
       "      <td>No</td>\n",
       "      <td>0</td>\n",
       "      <td>Not Graduate</td>\n",
       "      <td>No</td>\n",
       "      <td>3276</td>\n",
       "      <td>0</td>\n",
       "      <td>78.0</td>\n",
       "      <td>360.0</td>\n",
       "      <td>1.0</td>\n",
       "      <td>Urban</td>\n",
       "    </tr>\n",
       "  </tbody>\n",
       "</table>\n",
       "</div>"
      ],
      "text/plain": [
       "    Loan_ID Gender Married Dependents     Education Self_Employed  \\\n",
       "0  LP001015   Male     Yes          0      Graduate            No   \n",
       "1  LP001022   Male     Yes          1      Graduate            No   \n",
       "2  LP001031   Male     Yes          2      Graduate            No   \n",
       "3  LP001035   Male     Yes          2      Graduate            No   \n",
       "4  LP001051   Male      No          0  Not Graduate            No   \n",
       "\n",
       "   ApplicantIncome  CoapplicantIncome  LoanAmount  Loan_Amount_Term  \\\n",
       "0             5720                  0       110.0             360.0   \n",
       "1             3076               1500       126.0             360.0   \n",
       "2             5000               1800       208.0             360.0   \n",
       "3             2340               2546       100.0             360.0   \n",
       "4             3276                  0        78.0             360.0   \n",
       "\n",
       "   Credit_History Property_Area  \n",
       "0             1.0         Urban  \n",
       "1             1.0         Urban  \n",
       "2             1.0         Urban  \n",
       "3             NaN         Urban  \n",
       "4             1.0         Urban  "
      ]
     },
     "execution_count": 8,
     "metadata": {},
     "output_type": "execute_result"
    }
   ],
   "source": [
    "test.head()"
   ]
  },
  {
   "cell_type": "code",
   "execution_count": 9,
   "metadata": {},
   "outputs": [
    {
     "data": {
      "text/html": [
       "<div>\n",
       "<style scoped>\n",
       "    .dataframe tbody tr th:only-of-type {\n",
       "        vertical-align: middle;\n",
       "    }\n",
       "\n",
       "    .dataframe tbody tr th {\n",
       "        vertical-align: top;\n",
       "    }\n",
       "\n",
       "    .dataframe thead th {\n",
       "        text-align: right;\n",
       "    }\n",
       "</style>\n",
       "<table border=\"1\" class=\"dataframe\">\n",
       "  <thead>\n",
       "    <tr style=\"text-align: right;\">\n",
       "      <th></th>\n",
       "      <th>ApplicantIncome</th>\n",
       "      <th>CoapplicantIncome</th>\n",
       "      <th>LoanAmount</th>\n",
       "      <th>Loan_Amount_Term</th>\n",
       "      <th>Credit_History</th>\n",
       "    </tr>\n",
       "  </thead>\n",
       "  <tbody>\n",
       "    <tr>\n",
       "      <th>count</th>\n",
       "      <td>614.000000</td>\n",
       "      <td>614.000000</td>\n",
       "      <td>592.000000</td>\n",
       "      <td>600.00000</td>\n",
       "      <td>564.000000</td>\n",
       "    </tr>\n",
       "    <tr>\n",
       "      <th>mean</th>\n",
       "      <td>5403.459283</td>\n",
       "      <td>1621.245798</td>\n",
       "      <td>146.412162</td>\n",
       "      <td>342.00000</td>\n",
       "      <td>0.842199</td>\n",
       "    </tr>\n",
       "    <tr>\n",
       "      <th>std</th>\n",
       "      <td>6109.041673</td>\n",
       "      <td>2926.248369</td>\n",
       "      <td>85.587325</td>\n",
       "      <td>65.12041</td>\n",
       "      <td>0.364878</td>\n",
       "    </tr>\n",
       "    <tr>\n",
       "      <th>min</th>\n",
       "      <td>150.000000</td>\n",
       "      <td>0.000000</td>\n",
       "      <td>9.000000</td>\n",
       "      <td>12.00000</td>\n",
       "      <td>0.000000</td>\n",
       "    </tr>\n",
       "    <tr>\n",
       "      <th>25%</th>\n",
       "      <td>2877.500000</td>\n",
       "      <td>0.000000</td>\n",
       "      <td>100.000000</td>\n",
       "      <td>360.00000</td>\n",
       "      <td>1.000000</td>\n",
       "    </tr>\n",
       "    <tr>\n",
       "      <th>50%</th>\n",
       "      <td>3812.500000</td>\n",
       "      <td>1188.500000</td>\n",
       "      <td>128.000000</td>\n",
       "      <td>360.00000</td>\n",
       "      <td>1.000000</td>\n",
       "    </tr>\n",
       "    <tr>\n",
       "      <th>75%</th>\n",
       "      <td>5795.000000</td>\n",
       "      <td>2297.250000</td>\n",
       "      <td>168.000000</td>\n",
       "      <td>360.00000</td>\n",
       "      <td>1.000000</td>\n",
       "    </tr>\n",
       "    <tr>\n",
       "      <th>max</th>\n",
       "      <td>81000.000000</td>\n",
       "      <td>41667.000000</td>\n",
       "      <td>700.000000</td>\n",
       "      <td>480.00000</td>\n",
       "      <td>1.000000</td>\n",
       "    </tr>\n",
       "  </tbody>\n",
       "</table>\n",
       "</div>"
      ],
      "text/plain": [
       "       ApplicantIncome  CoapplicantIncome  LoanAmount  Loan_Amount_Term  \\\n",
       "count       614.000000         614.000000  592.000000         600.00000   \n",
       "mean       5403.459283        1621.245798  146.412162         342.00000   \n",
       "std        6109.041673        2926.248369   85.587325          65.12041   \n",
       "min         150.000000           0.000000    9.000000          12.00000   \n",
       "25%        2877.500000           0.000000  100.000000         360.00000   \n",
       "50%        3812.500000        1188.500000  128.000000         360.00000   \n",
       "75%        5795.000000        2297.250000  168.000000         360.00000   \n",
       "max       81000.000000       41667.000000  700.000000         480.00000   \n",
       "\n",
       "       Credit_History  \n",
       "count      564.000000  \n",
       "mean         0.842199  \n",
       "std          0.364878  \n",
       "min          0.000000  \n",
       "25%          1.000000  \n",
       "50%          1.000000  \n",
       "75%          1.000000  \n",
       "max          1.000000  "
      ]
     },
     "execution_count": 9,
     "metadata": {},
     "output_type": "execute_result"
    }
   ],
   "source": [
    "train.describe()"
   ]
  },
  {
   "cell_type": "code",
   "execution_count": 10,
   "metadata": {},
   "outputs": [
    {
     "data": {
      "text/html": [
       "<div>\n",
       "<style scoped>\n",
       "    .dataframe tbody tr th:only-of-type {\n",
       "        vertical-align: middle;\n",
       "    }\n",
       "\n",
       "    .dataframe tbody tr th {\n",
       "        vertical-align: top;\n",
       "    }\n",
       "\n",
       "    .dataframe thead th {\n",
       "        text-align: right;\n",
       "    }\n",
       "</style>\n",
       "<table border=\"1\" class=\"dataframe\">\n",
       "  <thead>\n",
       "    <tr style=\"text-align: right;\">\n",
       "      <th></th>\n",
       "      <th>ApplicantIncome</th>\n",
       "      <th>CoapplicantIncome</th>\n",
       "      <th>LoanAmount</th>\n",
       "      <th>Loan_Amount_Term</th>\n",
       "      <th>Credit_History</th>\n",
       "    </tr>\n",
       "  </thead>\n",
       "  <tbody>\n",
       "    <tr>\n",
       "      <th>count</th>\n",
       "      <td>367.000000</td>\n",
       "      <td>367.000000</td>\n",
       "      <td>362.000000</td>\n",
       "      <td>361.000000</td>\n",
       "      <td>338.000000</td>\n",
       "    </tr>\n",
       "    <tr>\n",
       "      <th>mean</th>\n",
       "      <td>4805.599455</td>\n",
       "      <td>1569.577657</td>\n",
       "      <td>136.132597</td>\n",
       "      <td>342.537396</td>\n",
       "      <td>0.825444</td>\n",
       "    </tr>\n",
       "    <tr>\n",
       "      <th>std</th>\n",
       "      <td>4910.685399</td>\n",
       "      <td>2334.232099</td>\n",
       "      <td>61.366652</td>\n",
       "      <td>65.156643</td>\n",
       "      <td>0.380150</td>\n",
       "    </tr>\n",
       "    <tr>\n",
       "      <th>min</th>\n",
       "      <td>0.000000</td>\n",
       "      <td>0.000000</td>\n",
       "      <td>28.000000</td>\n",
       "      <td>6.000000</td>\n",
       "      <td>0.000000</td>\n",
       "    </tr>\n",
       "    <tr>\n",
       "      <th>25%</th>\n",
       "      <td>2864.000000</td>\n",
       "      <td>0.000000</td>\n",
       "      <td>100.250000</td>\n",
       "      <td>360.000000</td>\n",
       "      <td>1.000000</td>\n",
       "    </tr>\n",
       "    <tr>\n",
       "      <th>50%</th>\n",
       "      <td>3786.000000</td>\n",
       "      <td>1025.000000</td>\n",
       "      <td>125.000000</td>\n",
       "      <td>360.000000</td>\n",
       "      <td>1.000000</td>\n",
       "    </tr>\n",
       "    <tr>\n",
       "      <th>75%</th>\n",
       "      <td>5060.000000</td>\n",
       "      <td>2430.500000</td>\n",
       "      <td>158.000000</td>\n",
       "      <td>360.000000</td>\n",
       "      <td>1.000000</td>\n",
       "    </tr>\n",
       "    <tr>\n",
       "      <th>max</th>\n",
       "      <td>72529.000000</td>\n",
       "      <td>24000.000000</td>\n",
       "      <td>550.000000</td>\n",
       "      <td>480.000000</td>\n",
       "      <td>1.000000</td>\n",
       "    </tr>\n",
       "  </tbody>\n",
       "</table>\n",
       "</div>"
      ],
      "text/plain": [
       "       ApplicantIncome  CoapplicantIncome  LoanAmount  Loan_Amount_Term  \\\n",
       "count       367.000000         367.000000  362.000000        361.000000   \n",
       "mean       4805.599455        1569.577657  136.132597        342.537396   \n",
       "std        4910.685399        2334.232099   61.366652         65.156643   \n",
       "min           0.000000           0.000000   28.000000          6.000000   \n",
       "25%        2864.000000           0.000000  100.250000        360.000000   \n",
       "50%        3786.000000        1025.000000  125.000000        360.000000   \n",
       "75%        5060.000000        2430.500000  158.000000        360.000000   \n",
       "max       72529.000000       24000.000000  550.000000        480.000000   \n",
       "\n",
       "       Credit_History  \n",
       "count      338.000000  \n",
       "mean         0.825444  \n",
       "std          0.380150  \n",
       "min          0.000000  \n",
       "25%          1.000000  \n",
       "50%          1.000000  \n",
       "75%          1.000000  \n",
       "max          1.000000  "
      ]
     },
     "execution_count": 10,
     "metadata": {},
     "output_type": "execute_result"
    }
   ],
   "source": [
    "test.describe()"
   ]
  },
  {
   "cell_type": "code",
   "execution_count": 11,
   "metadata": {},
   "outputs": [
    {
     "name": "stdout",
     "output_type": "stream",
     "text": [
      "<class 'pandas.core.frame.DataFrame'>\n",
      "RangeIndex: 614 entries, 0 to 613\n",
      "Data columns (total 13 columns):\n",
      " #   Column             Non-Null Count  Dtype  \n",
      "---  ------             --------------  -----  \n",
      " 0   Loan_ID            614 non-null    object \n",
      " 1   Gender             601 non-null    object \n",
      " 2   Married            611 non-null    object \n",
      " 3   Dependents         599 non-null    object \n",
      " 4   Education          614 non-null    object \n",
      " 5   Self_Employed      582 non-null    object \n",
      " 6   ApplicantIncome    614 non-null    int64  \n",
      " 7   CoapplicantIncome  614 non-null    float64\n",
      " 8   LoanAmount         592 non-null    float64\n",
      " 9   Loan_Amount_Term   600 non-null    float64\n",
      " 10  Credit_History     564 non-null    float64\n",
      " 11  Property_Area      614 non-null    object \n",
      " 12  Loan_Status        614 non-null    object \n",
      "dtypes: float64(4), int64(1), object(8)\n",
      "memory usage: 62.5+ KB\n"
     ]
    }
   ],
   "source": [
    "train.info()"
   ]
  },
  {
   "cell_type": "markdown",
   "metadata": {},
   "source": [
    "Seems like I have a fundamental idea about the dataset already. \"Loan_ID\" column will be useless in terms of building a model, so I drop it, apart from I create the target variable and drop it from both train and test datasets."
   ]
  },
  {
   "cell_type": "code",
   "execution_count": 12,
   "metadata": {},
   "outputs": [],
   "source": [
    "train.drop('Loan_ID', axis=1, inplace=True)\n",
    "test.drop('Loan_ID', axis=1, inplace=True)"
   ]
  },
  {
   "cell_type": "code",
   "execution_count": 13,
   "metadata": {},
   "outputs": [],
   "source": [
    "y = train['Loan_Status'].reset_index(drop=True)\n",
    "train_features = train.drop(['Loan_Status'], axis=1)\n",
    "test_features = test"
   ]
  },
  {
   "cell_type": "markdown",
   "metadata": {},
   "source": [
    "### Analysis\n",
    "\n",
    "Time to inspect the data deeper. I start with a correlation table and drop its top part as it's just a mirrow of the part below. Thanks to that I can look for and understand the linear relations between the features.\n",
    "\n",
    "**First obeservations:**\n",
    "\n",
    "- Most of the features don't appear to be strongly correlated.\n",
    "- Crucial for the dataset and our future model might be relation between \"LoanAmount\" column and respectively \"ApplicantIncome\" and \"CoapplicantIncome\" columns. We should keep that in mind for the future inspectations."
   ]
  },
  {
   "cell_type": "code",
   "execution_count": 14,
   "metadata": {},
   "outputs": [
    {
     "data": {
      "image/png": "[encoded data removed]",
      "text/plain": [
       "<Figure size 720x720 with 1 Axes>"
      ]
     },
     "metadata": {},
     "output_type": "display_data"
    }
   ],
   "source": [
    "sns.set(font_scale=1.1)\n",
    "correlation_train = train.corr()\n",
    "mask = np.triu(correlation_train.corr())\n",
    "plt.figure(figsize=(10, 10))\n",
    "sns.heatmap(correlation_train,\n",
    "            annot=True,\n",
    "            fmt='.1f',\n",
    "            cmap='coolwarm',\n",
    "            square=True,\n",
    "            mask=mask,\n",
    "            linewidths=1,\n",
    "            cbar=False)\n",
    "\n",
    "plt.show()"
   ]
  },
  {
   "cell_type": "markdown",
   "metadata": {},
   "source": [
    "I'm merging the datasets before cleaning and further editing as doing it twice would be pointless."
   ]
  },
  {
   "cell_type": "code",
   "execution_count": 15,
   "metadata": {},
   "outputs": [
    {
     "data": {
      "text/plain": [
       "(981, 11)"
      ]
     },
     "execution_count": 15,
     "metadata": {},
     "output_type": "execute_result"
    }
   ],
   "source": [
    "features = pd.concat([train_features, test_features]).reset_index(drop=True)\n",
    "features.shape"
   ]
  },
  {
   "cell_type": "code",
   "execution_count": 16,
   "metadata": {},
   "outputs": [],
   "source": [
    "df_num = features[['ApplicantIncome', 'CoapplicantIncome', 'LoanAmount', 'Loan_Amount_Term', 'Credit_History']]\n",
    "df_cat = features[['Gender', 'Married', 'Dependents', 'Education', 'Self_Employed', 'Property_Area']]"
   ]
  },
  {
   "cell_type": "markdown",
   "metadata": {},
   "source": [
    "I divided the features into numerical and categorical DataFrames. Division is based on the datatypes shown above after executing .info() command.<br>\n",
    "I draw the histograms and bar plots for numerical and categorical data respectively."
   ]
  },
  {
   "cell_type": "code",
   "execution_count": 17,
   "metadata": {},
   "outputs": [
    {
     "data": {
      "image/png": "[encoded data removed]",
      "text/plain": [
       "<Figure size 432x288 with 1 Axes>"
      ]
     },
     "metadata": {},
     "output_type": "display_data"
    },
    {
     "data": {
      "image/png": "[encoded data removed]",
      "text/plain": [
       "<Figure size 432x288 with 1 Axes>"
      ]
     },
     "metadata": {},
     "output_type": "display_data"
    },
    {
     "name": "stderr",
     "output_type": "stream",
     "text": [
      "C:\\Users\\sulew\\anaconda3\\lib\\site-packages\\numpy\\lib\\histograms.py:839: RuntimeWarning: invalid value encountered in greater_equal\n",
      "  keep = (tmp_a >= first_edge)\n",
      "C:\\Users\\sulew\\anaconda3\\lib\\site-packages\\numpy\\lib\\histograms.py:840: RuntimeWarning: invalid value encountered in less_equal\n",
      "  keep &= (tmp_a <= last_edge)\n"
     ]
    },
    {
     "data": {
      "image/png": "[encoded data removed]",
      "text/plain": [
       "<Figure size 432x288 with 1 Axes>"
      ]
     },
     "metadata": {},
     "output_type": "display_data"
    },
    {
     "data": {
      "image/png": "[encoded data removed]",
      "text/plain": [
       "<Figure size 432x288 with 1 Axes>"
      ]
     },
     "metadata": {},
     "output_type": "display_data"
    },
    {
     "data": {
      "image/png": "[encoded data removed]",
      "text/plain": [
       "<Figure size 432x288 with 1 Axes>"
      ]
     },
     "metadata": {},
     "output_type": "display_data"
    }
   ],
   "source": [
    "for i in df_num.columns:\n",
    "    plt.hist(df_num[i])\n",
    "    plt.title(i)\n",
    "    plt.show()"
   ]
  },
  {
   "cell_type": "code",
   "execution_count": 18,
   "metadata": {},
   "outputs": [
    {
     "data": {
      "image/png": "[encoded data removed]",
      "text/plain": [
       "<Figure size 432x288 with 1 Axes>"
      ]
     },
     "metadata": {},
     "output_type": "display_data"
    },
    {
     "data": {
      "image/png": "[encoded data removed]",
      "text/plain": [
       "<Figure size 432x288 with 1 Axes>"
      ]
     },
     "metadata": {},
     "output_type": "display_data"
    },
    {
     "data": {
      "image/png": "[encoded data removed]",
      "text/plain": [
       "<Figure size 432x288 with 1 Axes>"
      ]
     },
     "metadata": {},
     "output_type": "display_data"
    },
    {
     "data": {
      "image/png": "[encoded data removed]",
      "text/plain": [
       "<Figure size 432x288 with 1 Axes>"
      ]
     },
     "metadata": {},
     "output_type": "display_data"
    },
    {
     "data": {
      "image/png": "[encoded data removed]",
      "text/plain": [
       "<Figure size 432x288 with 1 Axes>"
      ]
     },
     "metadata": {},
     "output_type": "display_data"
    },
    {
     "data": {
      "image/png": "[encoded data removed]",
      "text/plain": [
       "<Figure size 432x288 with 1 Axes>"
      ]
     },
     "metadata": {},
     "output_type": "display_data"
    }
   ],
   "source": [
    "for i in df_cat.columns:\n",
    "    sns.barplot(df_cat[i].value_counts().index,df_cat[i].value_counts()).set_title(i)\n",
    "    plt.show()"
   ]
  },
  {
   "cell_type": "markdown",
   "metadata": {},
   "source": [
    "**Observations:**\n",
    "- Numerical data is far from normal distribution. I consider normalizing at least some features later on.\n",
    "- It appears that although \"Credit_History\"'s datatype is numerical, in reality that's categorical data as the only values it takes are 0s and 1s. I'll consider it as a categorical data.\n",
    "- Apart from \"Property_Area\" feature, categorical data might appear imbalanced, in fact it's not that messy, to be forced to do some feature engineering, not doing that shouldn't impact my model drastically.\n",
    "- I consider \"Dependents\" feature as half-one-hot-encoded. I'll encode it to one-hot vectors just by changing the \"3+\" value and convert it to integer datatype.\n",
    "\n",
    "Now let's look at the percentage of null values in the columns."
   ]
  },
  {
   "cell_type": "code",
   "execution_count": 19,
   "metadata": {},
   "outputs": [],
   "source": [
    "def missing_val_per(df):\n",
    "    summary = df.isnull().sum().sort_values(ascending=False)\n",
    "    percentage = round((summary / len(df) * 100), 2)\n",
    "    return pd.concat([summary, percentage], axis=1, keys=['Summary', 'Percentage'])"
   ]
  },
  {
   "cell_type": "code",
   "execution_count": 20,
   "metadata": {},
   "outputs": [
    {
     "data": {
      "text/html": [
       "<div>\n",
       "<style scoped>\n",
       "    .dataframe tbody tr th:only-of-type {\n",
       "        vertical-align: middle;\n",
       "    }\n",
       "\n",
       "    .dataframe tbody tr th {\n",
       "        vertical-align: top;\n",
       "    }\n",
       "\n",
       "    .dataframe thead th {\n",
       "        text-align: right;\n",
       "    }\n",
       "</style>\n",
       "<table border=\"1\" class=\"dataframe\">\n",
       "  <thead>\n",
       "    <tr style=\"text-align: right;\">\n",
       "      <th></th>\n",
       "      <th>Summary</th>\n",
       "      <th>Percentage</th>\n",
       "    </tr>\n",
       "  </thead>\n",
       "  <tbody>\n",
       "    <tr>\n",
       "      <th>Credit_History</th>\n",
       "      <td>79</td>\n",
       "      <td>8.05</td>\n",
       "    </tr>\n",
       "    <tr>\n",
       "      <th>Self_Employed</th>\n",
       "      <td>55</td>\n",
       "      <td>5.61</td>\n",
       "    </tr>\n",
       "    <tr>\n",
       "      <th>LoanAmount</th>\n",
       "      <td>27</td>\n",
       "      <td>2.75</td>\n",
       "    </tr>\n",
       "    <tr>\n",
       "      <th>Dependents</th>\n",
       "      <td>25</td>\n",
       "      <td>2.55</td>\n",
       "    </tr>\n",
       "    <tr>\n",
       "      <th>Gender</th>\n",
       "      <td>24</td>\n",
       "      <td>2.45</td>\n",
       "    </tr>\n",
       "    <tr>\n",
       "      <th>Loan_Amount_Term</th>\n",
       "      <td>20</td>\n",
       "      <td>2.04</td>\n",
       "    </tr>\n",
       "    <tr>\n",
       "      <th>Married</th>\n",
       "      <td>3</td>\n",
       "      <td>0.31</td>\n",
       "    </tr>\n",
       "    <tr>\n",
       "      <th>Property_Area</th>\n",
       "      <td>0</td>\n",
       "      <td>0.00</td>\n",
       "    </tr>\n",
       "    <tr>\n",
       "      <th>CoapplicantIncome</th>\n",
       "      <td>0</td>\n",
       "      <td>0.00</td>\n",
       "    </tr>\n",
       "    <tr>\n",
       "      <th>ApplicantIncome</th>\n",
       "      <td>0</td>\n",
       "      <td>0.00</td>\n",
       "    </tr>\n",
       "    <tr>\n",
       "      <th>Education</th>\n",
       "      <td>0</td>\n",
       "      <td>0.00</td>\n",
       "    </tr>\n",
       "  </tbody>\n",
       "</table>\n",
       "</div>"
      ],
      "text/plain": [
       "                   Summary  Percentage\n",
       "Credit_History          79        8.05\n",
       "Self_Employed           55        5.61\n",
       "LoanAmount              27        2.75\n",
       "Dependents              25        2.55\n",
       "Gender                  24        2.45\n",
       "Loan_Amount_Term        20        2.04\n",
       "Married                  3        0.31\n",
       "Property_Area            0        0.00\n",
       "CoapplicantIncome        0        0.00\n",
       "ApplicantIncome          0        0.00\n",
       "Education                0        0.00"
      ]
     },
     "execution_count": 20,
     "metadata": {},
     "output_type": "execute_result"
    }
   ],
   "source": [
    "missing_val_per(features)"
   ]
  },
  {
   "cell_type": "markdown",
   "metadata": {},
   "source": [
    "I separate the columns into 2 groups:\n",
    "- Null values arise from nonexistence, they might have been measured and they represent 0 value. Those are so called \"zero\" columns\n",
    "- Null values represent empty cells, in this case I'm going to replace them with the value that appears most often.\n",
    "\n",
    "Of course this division is very subjective and comes from my insights which I got from analysis above."
   ]
  },
  {
   "cell_type": "code",
   "execution_count": 21,
   "metadata": {},
   "outputs": [],
   "source": [
    "zero_cols = ['Credit_History', 'Dependents', 'LoanAmount']\n",
    "mode_cols = ['Self_Employed', 'Gender', 'Loan_Amount_Term']"
   ]
  },
  {
   "cell_type": "code",
   "execution_count": 22,
   "metadata": {},
   "outputs": [],
   "source": [
    "for col in zero_cols:\n",
    "    features[col].replace(np.nan, 0, inplace=True)\n",
    "\n",
    "for col in mode_cols:\n",
    "    features[col].replace(np.nan, features[col].mode()[0], inplace=True)\n",
    "\n",
    "features['Married'].replace(np.nan, 'No', inplace=True)"
   ]
  },
  {
   "cell_type": "code",
   "execution_count": 23,
   "metadata": {},
   "outputs": [
    {
     "data": {
      "text/plain": [
       "Gender               0\n",
       "Married              0\n",
       "Dependents           0\n",
       "Education            0\n",
       "Self_Employed        0\n",
       "ApplicantIncome      0\n",
       "CoapplicantIncome    0\n",
       "LoanAmount           0\n",
       "Loan_Amount_Term     0\n",
       "Credit_History       0\n",
       "Property_Area        0\n",
       "dtype: int64"
      ]
     },
     "execution_count": 23,
     "metadata": {},
     "output_type": "execute_result"
    }
   ],
   "source": [
    "features.isnull().sum()"
   ]
  },
  {
   "cell_type": "markdown",
   "metadata": {},
   "source": [
    "I plot the 2 most correlated features with respect to the target variable, based on the matrix shown above.<br>\n",
    "The boxen plots are very helpful when it comes to outliers detection."
   ]
  },
  {
   "cell_type": "code",
   "execution_count": 24,
   "metadata": {},
   "outputs": [
    {
     "data": {
      "image/png": "[encoded data removed]",
      "text/plain": [
       "<Figure size 1728x1296 with 6 Axes>"
      ]
     },
     "metadata": {},
     "output_type": "display_data"
    }
   ],
   "source": [
    "cols_num_box = ['ApplicantIncome', 'CoapplicantIncome', 'LoanAmount']\n",
    "\n",
    "plt.figure(figsize=(24, 18))\n",
    "count = 1\n",
    "\n",
    "for cols in cols_num_box:\n",
    "    \n",
    "    plt.subplot(3, 2, count)\n",
    "    \n",
    "    sns.boxenplot(x='Loan_Status', y=cols, data=train)\n",
    "    \n",
    "    count +=1\n",
    "    \n",
    "    plt.subplot(3, 2, count)\n",
    "    \n",
    "    sns.distplot(train.loc[train[cols].notna(), cols])\n",
    "    \n",
    "    count+=1"
   ]
  },
  {
   "cell_type": "markdown",
   "metadata": {},
   "source": [
    "**Observations:**\n",
    "- It seems that the top value in ApplicantIncome's column might be an outlier, despite the highest income (by far) in our dataset, the applicant hasn't received a loan. Nevertheless it's worth having a look on the other features in that record before final judgement.\n",
    "- Most of the values in the plots look reasonably"
   ]
  },
  {
   "cell_type": "code",
   "execution_count": 25,
   "metadata": {},
   "outputs": [
    {
     "data": {
      "text/html": [
       "<div>\n",
       "<style scoped>\n",
       "    .dataframe tbody tr th:only-of-type {\n",
       "        vertical-align: middle;\n",
       "    }\n",
       "\n",
       "    .dataframe tbody tr th {\n",
       "        vertical-align: top;\n",
       "    }\n",
       "\n",
       "    .dataframe thead th {\n",
       "        text-align: right;\n",
       "    }\n",
       "</style>\n",
       "<table border=\"1\" class=\"dataframe\">\n",
       "  <thead>\n",
       "    <tr style=\"text-align: right;\">\n",
       "      <th></th>\n",
       "      <th>Gender</th>\n",
       "      <th>Married</th>\n",
       "      <th>Dependents</th>\n",
       "      <th>Education</th>\n",
       "      <th>Self_Employed</th>\n",
       "      <th>ApplicantIncome</th>\n",
       "      <th>CoapplicantIncome</th>\n",
       "      <th>LoanAmount</th>\n",
       "      <th>Loan_Amount_Term</th>\n",
       "      <th>Credit_History</th>\n",
       "      <th>Property_Area</th>\n",
       "      <th>Loan_Status</th>\n",
       "    </tr>\n",
       "  </thead>\n",
       "  <tbody>\n",
       "    <tr>\n",
       "      <th>409</th>\n",
       "      <td>Male</td>\n",
       "      <td>Yes</td>\n",
       "      <td>3+</td>\n",
       "      <td>Graduate</td>\n",
       "      <td>No</td>\n",
       "      <td>81000</td>\n",
       "      <td>0.0</td>\n",
       "      <td>360.0</td>\n",
       "      <td>360.0</td>\n",
       "      <td>0.0</td>\n",
       "      <td>Rural</td>\n",
       "      <td>N</td>\n",
       "    </tr>\n",
       "    <tr>\n",
       "      <th>333</th>\n",
       "      <td>Male</td>\n",
       "      <td>Yes</td>\n",
       "      <td>0</td>\n",
       "      <td>Graduate</td>\n",
       "      <td>NaN</td>\n",
       "      <td>63337</td>\n",
       "      <td>0.0</td>\n",
       "      <td>490.0</td>\n",
       "      <td>180.0</td>\n",
       "      <td>1.0</td>\n",
       "      <td>Urban</td>\n",
       "      <td>Y</td>\n",
       "    </tr>\n",
       "    <tr>\n",
       "      <th>171</th>\n",
       "      <td>NaN</td>\n",
       "      <td>Yes</td>\n",
       "      <td>3+</td>\n",
       "      <td>Graduate</td>\n",
       "      <td>No</td>\n",
       "      <td>51763</td>\n",
       "      <td>0.0</td>\n",
       "      <td>700.0</td>\n",
       "      <td>300.0</td>\n",
       "      <td>1.0</td>\n",
       "      <td>Urban</td>\n",
       "      <td>Y</td>\n",
       "    </tr>\n",
       "    <tr>\n",
       "      <th>155</th>\n",
       "      <td>Male</td>\n",
       "      <td>Yes</td>\n",
       "      <td>3+</td>\n",
       "      <td>Graduate</td>\n",
       "      <td>No</td>\n",
       "      <td>39999</td>\n",
       "      <td>0.0</td>\n",
       "      <td>600.0</td>\n",
       "      <td>180.0</td>\n",
       "      <td>0.0</td>\n",
       "      <td>Semiurban</td>\n",
       "      <td>Y</td>\n",
       "    </tr>\n",
       "    <tr>\n",
       "      <th>185</th>\n",
       "      <td>Male</td>\n",
       "      <td>Yes</td>\n",
       "      <td>0</td>\n",
       "      <td>Graduate</td>\n",
       "      <td>Yes</td>\n",
       "      <td>39147</td>\n",
       "      <td>4750.0</td>\n",
       "      <td>120.0</td>\n",
       "      <td>360.0</td>\n",
       "      <td>1.0</td>\n",
       "      <td>Semiurban</td>\n",
       "      <td>Y</td>\n",
       "    </tr>\n",
       "  </tbody>\n",
       "</table>\n",
       "</div>"
      ],
      "text/plain": [
       "    Gender Married Dependents Education Self_Employed  ApplicantIncome  \\\n",
       "409   Male     Yes         3+  Graduate            No            81000   \n",
       "333   Male     Yes          0  Graduate           NaN            63337   \n",
       "171    NaN     Yes         3+  Graduate            No            51763   \n",
       "155   Male     Yes         3+  Graduate            No            39999   \n",
       "185   Male     Yes          0  Graduate           Yes            39147   \n",
       "\n",
       "     CoapplicantIncome  LoanAmount  Loan_Amount_Term  Credit_History  \\\n",
       "409                0.0       360.0             360.0             0.0   \n",
       "333                0.0       490.0             180.0             1.0   \n",
       "171                0.0       700.0             300.0             1.0   \n",
       "155                0.0       600.0             180.0             0.0   \n",
       "185             4750.0       120.0             360.0             1.0   \n",
       "\n",
       "    Property_Area Loan_Status  \n",
       "409         Rural           N  \n",
       "333         Urban           Y  \n",
       "171         Urban           Y  \n",
       "155     Semiurban           Y  \n",
       "185     Semiurban           Y  "
      ]
     },
     "execution_count": 25,
     "metadata": {},
     "output_type": "execute_result"
    }
   ],
   "source": [
    "train.nlargest(5, ['ApplicantIncome'])"
   ]
  },
  {
   "cell_type": "code",
   "execution_count": 26,
   "metadata": {},
   "outputs": [
    {
     "data": {
      "text/html": [
       "<div>\n",
       "<style scoped>\n",
       "    .dataframe tbody tr th:only-of-type {\n",
       "        vertical-align: middle;\n",
       "    }\n",
       "\n",
       "    .dataframe tbody tr th {\n",
       "        vertical-align: top;\n",
       "    }\n",
       "\n",
       "    .dataframe thead th {\n",
       "        text-align: right;\n",
       "    }\n",
       "</style>\n",
       "<table border=\"1\" class=\"dataframe\">\n",
       "  <thead>\n",
       "    <tr style=\"text-align: right;\">\n",
       "      <th></th>\n",
       "      <th>Gender</th>\n",
       "      <th>Married</th>\n",
       "      <th>Dependents</th>\n",
       "      <th>Education</th>\n",
       "      <th>Self_Employed</th>\n",
       "      <th>ApplicantIncome</th>\n",
       "      <th>CoapplicantIncome</th>\n",
       "      <th>LoanAmount</th>\n",
       "      <th>Loan_Amount_Term</th>\n",
       "      <th>Credit_History</th>\n",
       "      <th>Property_Area</th>\n",
       "      <th>Loan_Status</th>\n",
       "    </tr>\n",
       "  </thead>\n",
       "  <tbody>\n",
       "    <tr>\n",
       "      <th>600</th>\n",
       "      <td>Female</td>\n",
       "      <td>No</td>\n",
       "      <td>3+</td>\n",
       "      <td>Graduate</td>\n",
       "      <td>NaN</td>\n",
       "      <td>416</td>\n",
       "      <td>41667.0</td>\n",
       "      <td>350.0</td>\n",
       "      <td>180.0</td>\n",
       "      <td>NaN</td>\n",
       "      <td>Urban</td>\n",
       "      <td>N</td>\n",
       "    </tr>\n",
       "    <tr>\n",
       "      <th>581</th>\n",
       "      <td>Male</td>\n",
       "      <td>No</td>\n",
       "      <td>0</td>\n",
       "      <td>Graduate</td>\n",
       "      <td>No</td>\n",
       "      <td>1836</td>\n",
       "      <td>33837.0</td>\n",
       "      <td>90.0</td>\n",
       "      <td>360.0</td>\n",
       "      <td>1.0</td>\n",
       "      <td>Urban</td>\n",
       "      <td>N</td>\n",
       "    </tr>\n",
       "    <tr>\n",
       "      <th>402</th>\n",
       "      <td>Male</td>\n",
       "      <td>No</td>\n",
       "      <td>0</td>\n",
       "      <td>Graduate</td>\n",
       "      <td>No</td>\n",
       "      <td>2500</td>\n",
       "      <td>20000.0</td>\n",
       "      <td>103.0</td>\n",
       "      <td>360.0</td>\n",
       "      <td>1.0</td>\n",
       "      <td>Semiurban</td>\n",
       "      <td>Y</td>\n",
       "    </tr>\n",
       "    <tr>\n",
       "      <th>417</th>\n",
       "      <td>Male</td>\n",
       "      <td>Yes</td>\n",
       "      <td>2</td>\n",
       "      <td>Graduate</td>\n",
       "      <td>Yes</td>\n",
       "      <td>1600</td>\n",
       "      <td>20000.0</td>\n",
       "      <td>239.0</td>\n",
       "      <td>360.0</td>\n",
       "      <td>1.0</td>\n",
       "      <td>Urban</td>\n",
       "      <td>N</td>\n",
       "    </tr>\n",
       "    <tr>\n",
       "      <th>177</th>\n",
       "      <td>Male</td>\n",
       "      <td>Yes</td>\n",
       "      <td>3+</td>\n",
       "      <td>Graduate</td>\n",
       "      <td>No</td>\n",
       "      <td>5516</td>\n",
       "      <td>11300.0</td>\n",
       "      <td>495.0</td>\n",
       "      <td>360.0</td>\n",
       "      <td>0.0</td>\n",
       "      <td>Semiurban</td>\n",
       "      <td>N</td>\n",
       "    </tr>\n",
       "  </tbody>\n",
       "</table>\n",
       "</div>"
      ],
      "text/plain": [
       "     Gender Married Dependents Education Self_Employed  ApplicantIncome  \\\n",
       "600  Female      No         3+  Graduate           NaN              416   \n",
       "581    Male      No          0  Graduate            No             1836   \n",
       "402    Male      No          0  Graduate            No             2500   \n",
       "417    Male     Yes          2  Graduate           Yes             1600   \n",
       "177    Male     Yes         3+  Graduate            No             5516   \n",
       "\n",
       "     CoapplicantIncome  LoanAmount  Loan_Amount_Term  Credit_History  \\\n",
       "600            41667.0       350.0             180.0             NaN   \n",
       "581            33837.0        90.0             360.0             1.0   \n",
       "402            20000.0       103.0             360.0             1.0   \n",
       "417            20000.0       239.0             360.0             1.0   \n",
       "177            11300.0       495.0             360.0             0.0   \n",
       "\n",
       "    Property_Area Loan_Status  \n",
       "600         Urban           N  \n",
       "581         Urban           N  \n",
       "402     Semiurban           Y  \n",
       "417         Urban           N  \n",
       "177     Semiurban           N  "
      ]
     },
     "execution_count": 26,
     "metadata": {},
     "output_type": "execute_result"
    }
   ],
   "source": [
    "train.nlargest(5, ['CoapplicantIncome'])"
   ]
  },
  {
   "cell_type": "markdown",
   "metadata": {},
   "source": [
    "I'm inspecting few other correlations between the features, checking if there's nothing puzzling."
   ]
  },
  {
   "cell_type": "code",
   "execution_count": 27,
   "metadata": {},
   "outputs": [
    {
     "data": {
      "text/html": [
       "<div>\n",
       "<style scoped>\n",
       "    .dataframe tbody tr th:only-of-type {\n",
       "        vertical-align: middle;\n",
       "    }\n",
       "\n",
       "    .dataframe tbody tr th {\n",
       "        vertical-align: top;\n",
       "    }\n",
       "\n",
       "    .dataframe thead th {\n",
       "        text-align: right;\n",
       "    }\n",
       "</style>\n",
       "<table border=\"1\" class=\"dataframe\">\n",
       "  <thead>\n",
       "    <tr style=\"text-align: right;\">\n",
       "      <th>Married</th>\n",
       "      <th>No</th>\n",
       "      <th>Yes</th>\n",
       "    </tr>\n",
       "    <tr>\n",
       "      <th>Gender</th>\n",
       "      <th></th>\n",
       "      <th></th>\n",
       "    </tr>\n",
       "  </thead>\n",
       "  <tbody>\n",
       "    <tr>\n",
       "      <th>Female</th>\n",
       "      <td>4439.376000</td>\n",
       "      <td>4501.736842</td>\n",
       "    </tr>\n",
       "    <tr>\n",
       "      <th>Male</th>\n",
       "      <td>4986.306667</td>\n",
       "      <td>5484.214286</td>\n",
       "    </tr>\n",
       "  </tbody>\n",
       "</table>\n",
       "</div>"
      ],
      "text/plain": [
       "Married           No          Yes\n",
       "Gender                           \n",
       "Female   4439.376000  4501.736842\n",
       "Male     4986.306667  5484.214286"
      ]
     },
     "execution_count": 27,
     "metadata": {},
     "output_type": "execute_result"
    }
   ],
   "source": [
    "pd.pivot_table(features, index='Gender', columns='Married', values='ApplicantIncome', aggfunc='mean')"
   ]
  },
  {
   "cell_type": "code",
   "execution_count": 28,
   "metadata": {},
   "outputs": [
    {
     "data": {
      "text/html": [
       "<div>\n",
       "<style scoped>\n",
       "    .dataframe tbody tr th:only-of-type {\n",
       "        vertical-align: middle;\n",
       "    }\n",
       "\n",
       "    .dataframe tbody tr th {\n",
       "        vertical-align: top;\n",
       "    }\n",
       "\n",
       "    .dataframe thead th {\n",
       "        text-align: right;\n",
       "    }\n",
       "</style>\n",
       "<table border=\"1\" class=\"dataframe\">\n",
       "  <thead>\n",
       "    <tr style=\"text-align: right;\">\n",
       "      <th>Married</th>\n",
       "      <th>No</th>\n",
       "      <th>Yes</th>\n",
       "    </tr>\n",
       "    <tr>\n",
       "      <th>Gender</th>\n",
       "      <th></th>\n",
       "      <th></th>\n",
       "    </tr>\n",
       "  </thead>\n",
       "  <tbody>\n",
       "    <tr>\n",
       "      <th>Female</th>\n",
       "      <td>114.488000</td>\n",
       "      <td>144.701754</td>\n",
       "    </tr>\n",
       "    <tr>\n",
       "      <th>Male</th>\n",
       "      <td>128.226667</td>\n",
       "      <td>147.292683</td>\n",
       "    </tr>\n",
       "  </tbody>\n",
       "</table>\n",
       "</div>"
      ],
      "text/plain": [
       "Married          No         Yes\n",
       "Gender                         \n",
       "Female   114.488000  144.701754\n",
       "Male     128.226667  147.292683"
      ]
     },
     "execution_count": 28,
     "metadata": {},
     "output_type": "execute_result"
    }
   ],
   "source": [
    "pd.pivot_table(features, index='Gender', columns='Married', values='LoanAmount', aggfunc='mean')"
   ]
  },
  {
   "cell_type": "code",
   "execution_count": 29,
   "metadata": {},
   "outputs": [
    {
     "data": {
      "text/html": [
       "<div>\n",
       "<style scoped>\n",
       "    .dataframe tbody tr th:only-of-type {\n",
       "        vertical-align: middle;\n",
       "    }\n",
       "\n",
       "    .dataframe tbody tr th {\n",
       "        vertical-align: top;\n",
       "    }\n",
       "\n",
       "    .dataframe thead th {\n",
       "        text-align: right;\n",
       "    }\n",
       "</style>\n",
       "<table border=\"1\" class=\"dataframe\">\n",
       "  <thead>\n",
       "    <tr style=\"text-align: right;\">\n",
       "      <th>Education</th>\n",
       "      <th>Graduate</th>\n",
       "      <th>Not Graduate</th>\n",
       "    </tr>\n",
       "    <tr>\n",
       "      <th>Gender</th>\n",
       "      <th></th>\n",
       "      <th></th>\n",
       "    </tr>\n",
       "  </thead>\n",
       "  <tbody>\n",
       "    <tr>\n",
       "      <th>Female</th>\n",
       "      <td>4598.175676</td>\n",
       "      <td>3852.676471</td>\n",
       "    </tr>\n",
       "    <tr>\n",
       "      <th>Male</th>\n",
       "      <td>5844.117073</td>\n",
       "      <td>3672.423913</td>\n",
       "    </tr>\n",
       "  </tbody>\n",
       "</table>\n",
       "</div>"
      ],
      "text/plain": [
       "Education     Graduate  Not Graduate\n",
       "Gender                              \n",
       "Female     4598.175676   3852.676471\n",
       "Male       5844.117073   3672.423913"
      ]
     },
     "execution_count": 29,
     "metadata": {},
     "output_type": "execute_result"
    }
   ],
   "source": [
    "pd.pivot_table(features, index='Gender', columns='Education', values='ApplicantIncome', aggfunc='mean')"
   ]
  },
  {
   "cell_type": "markdown",
   "metadata": {},
   "source": [
    "Now it's the highest time to take care of the categorical features:\n",
    "- \"Credit_History\" is the categorical variable under the numerical label, the only values it takes is either 0 or 1 so it's not necessary to one-hot encode it\n",
    "- \"Dependents\" is the categorical variable that can take 4 different values, one of which is a string. It's more convenient to convert that value into an integer rather than one-hot encoding all the values of the future\n",
    "- Rest of the categorical variables are being treated with OneHotEncoder"
   ]
  },
  {
   "cell_type": "code",
   "execution_count": 30,
   "metadata": {},
   "outputs": [],
   "source": [
    "from sklearn.preprocessing import OneHotEncoder\n",
    "\n",
    "s = (features.dtypes == 'object')\n",
    "oh_cols = list(s[s].index)\n",
    "oh_cols.remove(\"Dependents\")"
   ]
  },
  {
   "cell_type": "code",
   "execution_count": 31,
   "metadata": {},
   "outputs": [],
   "source": [
    "df_num = features[['ApplicantIncome', 'CoapplicantIncome', 'LoanAmount', 'Loan_Amount_Term', 'Credit_History']]\n",
    "df_cat = features[['Gender', 'Married', 'Dependents', 'Education', 'Self_Employed', 'Property_Area']]\n",
    "\n",
    "oh_enc = OneHotEncoder(sparse=False)\n",
    "oh_fit = pd.DataFrame(oh_enc.fit_transform(features[oh_cols]))\n",
    "\n",
    "features_final = pd.concat([df_num, oh_fit], axis=1)"
   ]
  },
  {
   "cell_type": "code",
   "execution_count": 32,
   "metadata": {},
   "outputs": [],
   "source": [
    "features_final.insert(2, \"Dependents\", df_cat['Dependents'], True)"
   ]
  },
  {
   "cell_type": "code",
   "execution_count": 33,
   "metadata": {},
   "outputs": [],
   "source": [
    "features_final['Dependents'] = features_final.Dependents.apply(lambda x: int(4) if x=='3+' else int(x))\n",
    "y = y.apply(lambda x: 1 if x=='Y' else 0)"
   ]
  },
  {
   "cell_type": "markdown",
   "metadata": {},
   "source": [
    "I got rid of categorical variables. Time to separate the data back to train and test sets and scale them."
   ]
  },
  {
   "cell_type": "code",
   "execution_count": 34,
   "metadata": {},
   "outputs": [],
   "source": [
    "train = features_final.iloc[:len(y), :]\n",
    "test = features_final.iloc[len(train):, :]"
   ]
  },
  {
   "cell_type": "code",
   "execution_count": 35,
   "metadata": {},
   "outputs": [],
   "source": [
    "from sklearn.model_selection import train_test_split, cross_val_score\n",
    "\n",
    "X_train = train\n",
    "X_test = test\n",
    "\n",
    "# _, _, y_train, y_test = train_test_split(train, y, test_size=0.2)"
   ]
  },
  {
   "cell_type": "code",
   "execution_count": 36,
   "metadata": {},
   "outputs": [],
   "source": [
    "from sklearn.preprocessing import StandardScaler\n",
    "\n",
    "scaler = StandardScaler()\n",
    "X_train_scaled = scaler.fit_transform(X_train)\n",
    "X_test_scaled = scaler.transform(X_test)"
   ]
  },
  {
   "cell_type": "code",
   "execution_count": 37,
   "metadata": {},
   "outputs": [],
   "source": [
    "from sklearn.metrics import f1_score\n",
    "\n",
    "f1_list = []\n",
    "\n",
    "def compute_f1_score(model):\n",
    "    regressor = model.fit(X_train_scaled, y)\n",
    "    y_pred = regressor.predict(X_test_scaled)\n",
    "    score = f1_score(y[:367], y_pred)\n",
    "    f1_list.append(score)\n",
    "    \n",
    "    return print('F1 score: ', score)"
   ]
  },
  {
   "cell_type": "markdown",
   "metadata": {},
   "source": [
    "### Model Building"
   ]
  },
  {
   "cell_type": "markdown",
   "metadata": {},
   "source": [
    "I have a habit of starting with the simplest NaiveBayes classifier and then moving through more advanced ones, ending up with learning SupportVectorMachines and ExtremeGradientBoost classifiers.<br>\n",
    "First of all, for each of them I calculate the cross validation score on the 5 folds with default hyperparametres and F1 score which combines both of the precision and recall metrics."
   ]
  },
  {
   "cell_type": "code",
   "execution_count": 38,
   "metadata": {},
   "outputs": [],
   "source": [
    "from sklearn.naive_bayes import GaussianNB\n",
    "from sklearn.linear_model import LogisticRegression\n",
    "from sklearn.tree import DecisionTreeClassifier\n",
    "from sklearn.ensemble import RandomForestClassifier\n",
    "from sklearn.neighbors import KNeighborsClassifier\n",
    "from sklearn.svm import SVC\n",
    "from xgboost import XGBClassifier\n",
    "from lightgbm import LGBMClassifier"
   ]
  },
  {
   "cell_type": "code",
   "execution_count": 39,
   "metadata": {},
   "outputs": [
    {
     "name": "stdout",
     "output_type": "stream",
     "text": [
      "F1 score:  0.7476280834914611\n",
      "CrossValidationScore:  0.7313074770091963\n"
     ]
    }
   ],
   "source": [
    "cv_list = []\n",
    "\n",
    "gnb = GaussianNB()\n",
    "\n",
    "cv = cross_val_score(gnb, X_train_scaled, y, cv=5)\n",
    "cv_list.append(cv.mean())\n",
    "compute_f1_score(gnb)\n",
    "print('CrossValidationScore: ', cv.mean())"
   ]
  },
  {
   "cell_type": "code",
   "execution_count": 40,
   "metadata": {},
   "outputs": [
    {
     "name": "stdout",
     "output_type": "stream",
     "text": [
      "F1 score:  0.7588785046728972\n",
      "CrossValidationScore:  0.7687591630014661\n"
     ]
    }
   ],
   "source": [
    "lr = LogisticRegression(max_iter = 2000)\n",
    "\n",
    "cv = cross_val_score(lr, X_train_scaled, y, cv=5)\n",
    "cv_list.append(cv.mean())\n",
    "compute_f1_score(lr)\n",
    "print('CrossValidationScore: ', cv.mean())"
   ]
  },
  {
   "cell_type": "code",
   "execution_count": 41,
   "metadata": {},
   "outputs": [
    {
     "name": "stdout",
     "output_type": "stream",
     "text": [
      "F1 score:  0.704950495049505\n",
      "CrossValidationScore:  0.682407037185126\n"
     ]
    }
   ],
   "source": [
    "dt = DecisionTreeClassifier(random_state=1)\n",
    "\n",
    "cv = cross_val_score(dt, X_train_scaled, y, cv=5)\n",
    "cv_list.append(cv.mean())\n",
    "compute_f1_score(dt)\n",
    "print('CrossValidationScore: ', cv.mean())"
   ]
  },
  {
   "cell_type": "code",
   "execution_count": 42,
   "metadata": {},
   "outputs": [
    {
     "name": "stdout",
     "output_type": "stream",
     "text": [
      "F1 score:  0.7596330275229357\n",
      "CrossValidationScore:  0.7215247234439558\n"
     ]
    }
   ],
   "source": [
    "kn = KNeighborsClassifier()\n",
    "\n",
    "cv = cross_val_score(kn, X_train_scaled, y, cv=5)\n",
    "cv_list.append(cv.mean())\n",
    "compute_f1_score(kn)\n",
    "print('CrossValidationScore: ', cv.mean())"
   ]
  },
  {
   "cell_type": "code",
   "execution_count": 43,
   "metadata": {},
   "outputs": [
    {
     "name": "stdout",
     "output_type": "stream",
     "text": [
      "F1 score:  0.7286527514231499\n",
      "CrossValidationScore:  0.728055444488871\n"
     ]
    }
   ],
   "source": [
    "rf = RandomForestClassifier(random_state=1)\n",
    "\n",
    "cv = cross_val_score(rf, X_train_scaled, y, cv=5)\n",
    "cv_list.append(cv.mean())\n",
    "compute_f1_score(rf)\n",
    "print('CrossValidationScore: ', cv.mean())"
   ]
  },
  {
   "cell_type": "code",
   "execution_count": 44,
   "metadata": {},
   "outputs": [
    {
     "name": "stdout",
     "output_type": "stream",
     "text": [
      "F1 score:  0.7592592592592594\n",
      "CrossValidationScore:  0.7573503931760628\n"
     ]
    }
   ],
   "source": [
    "svc = SVC(probability=True)\n",
    "\n",
    "cv = cross_val_score(svc, X_train_scaled, y, cv=5)\n",
    "cv_list.append(cv.mean())\n",
    "compute_f1_score(svc)\n",
    "print('CrossValidationScore: ', cv.mean())"
   ]
  },
  {
   "cell_type": "code",
   "execution_count": 45,
   "metadata": {},
   "outputs": [
    {
     "name": "stdout",
     "output_type": "stream",
     "text": [
      "F1 score:  0.7099236641221375\n",
      "CrossValidationScore:  0.7035585765693722\n"
     ]
    }
   ],
   "source": [
    "xgb = XGBClassifier(random_state=1)\n",
    "\n",
    "cv = cross_val_score(xgb, X_train_scaled, y, cv=5)\n",
    "cv_list.append(cv.mean())\n",
    "compute_f1_score(xgb)\n",
    "print('CrossValidationScore: ', cv.mean())"
   ]
  },
  {
   "cell_type": "code",
   "execution_count": 46,
   "metadata": {},
   "outputs": [
    {
     "name": "stdout",
     "output_type": "stream",
     "text": [
      "F1 score:  0.703846153846154\n",
      "CrossValidationScore:  0.7052112488337998\n"
     ]
    }
   ],
   "source": [
    "lgb = LGBMClassifier()\n",
    "\n",
    "cv = cross_val_score(lgb, X_train_scaled, y, cv=5)\n",
    "cv_list.append(cv.mean())\n",
    "compute_f1_score(lgb)\n",
    "print('CrossValidationScore: ', cv.mean())"
   ]
  },
  {
   "cell_type": "code",
   "execution_count": 47,
   "metadata": {},
   "outputs": [
    {
     "name": "stdout",
     "output_type": "stream",
     "text": [
      "[0.7804878  0.69105691 0.74796748 0.7398374  0.75409836]\n",
      "0.7426895908303346\n"
     ]
    }
   ],
   "source": [
    "from sklearn.ensemble import VotingClassifier\n",
    "\n",
    "voting_clf = VotingClassifier(estimators=[('gnb', gnb), ('lr', lr), ('dt', dt), ('kn', kn), ('rf', rf), ('svc', svc), ('xgb', xgb)], voting='soft')\n",
    "\n",
    "cv = cross_val_score(voting_clf, X_train_scaled, y, cv=5)\n",
    "print(cv)\n",
    "print(cv.mean())"
   ]
  },
  {
   "cell_type": "code",
   "execution_count": 48,
   "metadata": {},
   "outputs": [],
   "source": [
    "labels = ['GaussianNaiveBayes', 'LogisticRegression', 'DecisionTree', 'KNearestNeighbours', 'RandomForest', 'SVM', 'XGBoost', 'LightGB']"
   ]
  },
  {
   "cell_type": "code",
   "execution_count": 49,
   "metadata": {},
   "outputs": [],
   "source": [
    "def create_table(cv_list, f1_list, labels):\n",
    "    \n",
    "    model_table = pd.DataFrame()\n",
    "    row_index = 0\n",
    "    \n",
    "    for cv_score, f1_score, label in zip(cv_list, f1_list, labels):\n",
    "\n",
    "        model_table.loc[row_index, 'Model Name'] = label\n",
    "\n",
    "        model_table.loc[row_index, 'cv_mean_score'] = cv_score\n",
    "        \n",
    "        model_table.loc[row_index, 'f1_score'] = f1_score\n",
    "\n",
    "        row_index += 1\n",
    "\n",
    "    model_table.sort_values(by=['f1_score'],\n",
    "                            ascending=False,\n",
    "                            inplace=True)\n",
    "    \n",
    "    return model_table"
   ]
  },
  {
   "cell_type": "code",
   "execution_count": 50,
   "metadata": {},
   "outputs": [
    {
     "data": {
      "text/html": [
       "<style  type=\"text/css\" >\n",
       "    #T_2ffaf2d0_01a4_11eb_9d37_f48e38f850c0row0_col1 {\n",
       "            background-color:  #8cc666;\n",
       "            color:  #000000;\n",
       "        }    #T_2ffaf2d0_01a4_11eb_9d37_f48e38f850c0row0_col2 {\n",
       "            background-color:  #008066;\n",
       "            color:  #f1f1f1;\n",
       "        }    #T_2ffaf2d0_01a4_11eb_9d37_f48e38f850c0row1_col1 {\n",
       "            background-color:  #219066;\n",
       "            color:  #000000;\n",
       "        }    #T_2ffaf2d0_01a4_11eb_9d37_f48e38f850c0row1_col2 {\n",
       "            background-color:  #018066;\n",
       "            color:  #f1f1f1;\n",
       "        }    #T_2ffaf2d0_01a4_11eb_9d37_f48e38f850c0row2_col1 {\n",
       "            background-color:  #008066;\n",
       "            color:  #f1f1f1;\n",
       "        }    #T_2ffaf2d0_01a4_11eb_9d37_f48e38f850c0row2_col2 {\n",
       "            background-color:  #038166;\n",
       "            color:  #f1f1f1;\n",
       "        }    #T_2ffaf2d0_01a4_11eb_9d37_f48e38f850c0row3_col1 {\n",
       "            background-color:  #6fb766;\n",
       "            color:  #000000;\n",
       "        }    #T_2ffaf2d0_01a4_11eb_9d37_f48e38f850c0row3_col2 {\n",
       "            background-color:  #379b66;\n",
       "            color:  #000000;\n",
       "        }    #T_2ffaf2d0_01a4_11eb_9d37_f48e38f850c0row4_col1 {\n",
       "            background-color:  #78bc66;\n",
       "            color:  #000000;\n",
       "        }    #T_2ffaf2d0_01a4_11eb_9d37_f48e38f850c0row4_col2 {\n",
       "            background-color:  #8ec666;\n",
       "            color:  #000000;\n",
       "        }    #T_2ffaf2d0_01a4_11eb_9d37_f48e38f850c0row5_col1 {\n",
       "            background-color:  #c1e066;\n",
       "            color:  #000000;\n",
       "        }    #T_2ffaf2d0_01a4_11eb_9d37_f48e38f850c0row5_col2 {\n",
       "            background-color:  #e4f266;\n",
       "            color:  #000000;\n",
       "        }    #T_2ffaf2d0_01a4_11eb_9d37_f48e38f850c0row6_col1 {\n",
       "            background-color:  #ffff66;\n",
       "            color:  #000000;\n",
       "        }    #T_2ffaf2d0_01a4_11eb_9d37_f48e38f850c0row6_col2 {\n",
       "            background-color:  #fafc66;\n",
       "            color:  #000000;\n",
       "        }    #T_2ffaf2d0_01a4_11eb_9d37_f48e38f850c0row7_col1 {\n",
       "            background-color:  #bcde66;\n",
       "            color:  #000000;\n",
       "        }    #T_2ffaf2d0_01a4_11eb_9d37_f48e38f850c0row7_col2 {\n",
       "            background-color:  #ffff66;\n",
       "            color:  #000000;\n",
       "        }</style><table id=\"T_2ffaf2d0_01a4_11eb_9d37_f48e38f850c0\" ><thead>    <tr>        <th class=\"blank level0\" ></th>        <th class=\"col_heading level0 col0\" >Model Name</th>        <th class=\"col_heading level0 col1\" >cv_mean_score</th>        <th class=\"col_heading level0 col2\" >f1_score</th>    </tr></thead><tbody>\n",
       "                <tr>\n",
       "                        <th id=\"T_2ffaf2d0_01a4_11eb_9d37_f48e38f850c0level0_row0\" class=\"row_heading level0 row0\" >3</th>\n",
       "                        <td id=\"T_2ffaf2d0_01a4_11eb_9d37_f48e38f850c0row0_col0\" class=\"data row0 col0\" >KNearestNeighbours</td>\n",
       "                        <td id=\"T_2ffaf2d0_01a4_11eb_9d37_f48e38f850c0row0_col1\" class=\"data row0 col1\" >0.721525</td>\n",
       "                        <td id=\"T_2ffaf2d0_01a4_11eb_9d37_f48e38f850c0row0_col2\" class=\"data row0 col2\" >0.759633</td>\n",
       "            </tr>\n",
       "            <tr>\n",
       "                        <th id=\"T_2ffaf2d0_01a4_11eb_9d37_f48e38f850c0level0_row1\" class=\"row_heading level0 row1\" >5</th>\n",
       "                        <td id=\"T_2ffaf2d0_01a4_11eb_9d37_f48e38f850c0row1_col0\" class=\"data row1 col0\" >SVM</td>\n",
       "                        <td id=\"T_2ffaf2d0_01a4_11eb_9d37_f48e38f850c0row1_col1\" class=\"data row1 col1\" >0.757350</td>\n",
       "                        <td id=\"T_2ffaf2d0_01a4_11eb_9d37_f48e38f850c0row1_col2\" class=\"data row1 col2\" >0.759259</td>\n",
       "            </tr>\n",
       "            <tr>\n",
       "                        <th id=\"T_2ffaf2d0_01a4_11eb_9d37_f48e38f850c0level0_row2\" class=\"row_heading level0 row2\" >1</th>\n",
       "                        <td id=\"T_2ffaf2d0_01a4_11eb_9d37_f48e38f850c0row2_col0\" class=\"data row2 col0\" >LogisticRegression</td>\n",
       "                        <td id=\"T_2ffaf2d0_01a4_11eb_9d37_f48e38f850c0row2_col1\" class=\"data row2 col1\" >0.768759</td>\n",
       "                        <td id=\"T_2ffaf2d0_01a4_11eb_9d37_f48e38f850c0row2_col2\" class=\"data row2 col2\" >0.758879</td>\n",
       "            </tr>\n",
       "            <tr>\n",
       "                        <th id=\"T_2ffaf2d0_01a4_11eb_9d37_f48e38f850c0level0_row3\" class=\"row_heading level0 row3\" >0</th>\n",
       "                        <td id=\"T_2ffaf2d0_01a4_11eb_9d37_f48e38f850c0row3_col0\" class=\"data row3 col0\" >GaussianNaiveBayes</td>\n",
       "                        <td id=\"T_2ffaf2d0_01a4_11eb_9d37_f48e38f850c0row3_col1\" class=\"data row3 col1\" >0.731307</td>\n",
       "                        <td id=\"T_2ffaf2d0_01a4_11eb_9d37_f48e38f850c0row3_col2\" class=\"data row3 col2\" >0.747628</td>\n",
       "            </tr>\n",
       "            <tr>\n",
       "                        <th id=\"T_2ffaf2d0_01a4_11eb_9d37_f48e38f850c0level0_row4\" class=\"row_heading level0 row4\" >4</th>\n",
       "                        <td id=\"T_2ffaf2d0_01a4_11eb_9d37_f48e38f850c0row4_col0\" class=\"data row4 col0\" >RandomForest</td>\n",
       "                        <td id=\"T_2ffaf2d0_01a4_11eb_9d37_f48e38f850c0row4_col1\" class=\"data row4 col1\" >0.728055</td>\n",
       "                        <td id=\"T_2ffaf2d0_01a4_11eb_9d37_f48e38f850c0row4_col2\" class=\"data row4 col2\" >0.728653</td>\n",
       "            </tr>\n",
       "            <tr>\n",
       "                        <th id=\"T_2ffaf2d0_01a4_11eb_9d37_f48e38f850c0level0_row5\" class=\"row_heading level0 row5\" >6</th>\n",
       "                        <td id=\"T_2ffaf2d0_01a4_11eb_9d37_f48e38f850c0row5_col0\" class=\"data row5 col0\" >XGBoost</td>\n",
       "                        <td id=\"T_2ffaf2d0_01a4_11eb_9d37_f48e38f850c0row5_col1\" class=\"data row5 col1\" >0.703559</td>\n",
       "                        <td id=\"T_2ffaf2d0_01a4_11eb_9d37_f48e38f850c0row5_col2\" class=\"data row5 col2\" >0.709924</td>\n",
       "            </tr>\n",
       "            <tr>\n",
       "                        <th id=\"T_2ffaf2d0_01a4_11eb_9d37_f48e38f850c0level0_row6\" class=\"row_heading level0 row6\" >2</th>\n",
       "                        <td id=\"T_2ffaf2d0_01a4_11eb_9d37_f48e38f850c0row6_col0\" class=\"data row6 col0\" >DecisionTree</td>\n",
       "                        <td id=\"T_2ffaf2d0_01a4_11eb_9d37_f48e38f850c0row6_col1\" class=\"data row6 col1\" >0.682407</td>\n",
       "                        <td id=\"T_2ffaf2d0_01a4_11eb_9d37_f48e38f850c0row6_col2\" class=\"data row6 col2\" >0.704950</td>\n",
       "            </tr>\n",
       "            <tr>\n",
       "                        <th id=\"T_2ffaf2d0_01a4_11eb_9d37_f48e38f850c0level0_row7\" class=\"row_heading level0 row7\" >7</th>\n",
       "                        <td id=\"T_2ffaf2d0_01a4_11eb_9d37_f48e38f850c0row7_col0\" class=\"data row7 col0\" >LightGB</td>\n",
       "                        <td id=\"T_2ffaf2d0_01a4_11eb_9d37_f48e38f850c0row7_col1\" class=\"data row7 col1\" >0.705211</td>\n",
       "                        <td id=\"T_2ffaf2d0_01a4_11eb_9d37_f48e38f850c0row7_col2\" class=\"data row7 col2\" >0.703846</td>\n",
       "            </tr>\n",
       "    </tbody></table>"
      ],
      "text/plain": [
       "<pandas.io.formats.style.Styler at 0x19b726bd208>"
      ]
     },
     "metadata": {},
     "output_type": "display_data"
    }
   ],
   "source": [
    "raw_models = create_table(cv_list, f1_list, labels)\n",
    "display(raw_models.style.background_gradient(cmap='summer_r'))"
   ]
  },
  {
   "cell_type": "markdown",
   "metadata": {},
   "source": [
    "Considering CV score, the best non-tuned classifier turns out to be LogisticRegression. Nearly 77% of accuracy on the quite small and noisy dataset looks like an acceptable result.<br>\n",
    "As I'm dealing with the classification problem, more trustworthy metric is F1 score, that's why I sorted the table according to that result.<br>\n",
    "KNN, SVM and LR seem to perform similarly. Having those two metrics next to each other gives me better overview of the performances.<br>\n",
    "Worth drawing for classification problems is also RocAucCurve, nevertheless in this project, I'm going to rely only on the two metrics mentioned above.<br>\n",
    "Time to look for hyperparameters that will perform better on a given dataset.<br>\n",
    "\n",
    "For simpler classifiers I'm going to use GridSearch to search among all the implemented combinations, for SVM and RandomForest I'll use randomized searching to save some time."
   ]
  },
  {
   "cell_type": "markdown",
   "metadata": {},
   "source": [
    "## Hyperparameter Tuning"
   ]
  },
  {
   "cell_type": "code",
   "execution_count": 74,
   "metadata": {},
   "outputs": [],
   "source": [
    "from sklearn.model_selection import GridSearchCV, RandomizedSearchCV\n",
    "\n",
    "def param_search(classifier, model_name):\n",
    "    print(model_name)\n",
    "    print('Best Score: ' + str(classifier.best_score_))\n",
    "    print('Best Parameters: ' + str(classifier.best_params_))"
   ]
  },
  {
   "cell_type": "code",
   "execution_count": 75,
   "metadata": {},
   "outputs": [
    {
     "name": "stdout",
     "output_type": "stream",
     "text": [
      "Fitting 5 folds for each of 40 candidates, totalling 200 fits\n"
     ]
    },
    {
     "name": "stderr",
     "output_type": "stream",
     "text": [
      "[Parallel(n_jobs=-1)]: Using backend LokyBackend with 4 concurrent workers.\n",
      "[Parallel(n_jobs=-1)]: Done  68 tasks      | elapsed:    1.9s\n"
     ]
    },
    {
     "name": "stdout",
     "output_type": "stream",
     "text": [
      "Logistic Regression\n",
      "Best Score: 0.7720378515260563\n",
      "Best Parameters: {'C': 0.23357214690901212, 'max_iter': 2000, 'penalty': 'l1', 'solver': 'liblinear'}\n"
     ]
    },
    {
     "name": "stderr",
     "output_type": "stream",
     "text": [
      "[Parallel(n_jobs=-1)]: Done 200 out of 200 | elapsed:    2.3s finished\n"
     ]
    }
   ],
   "source": [
    "params = {'max_iter' : [2000],\n",
    "            'penalty' : ['l1', 'l2'],\n",
    "              'C' : np.logspace(-4, 4, 20),\n",
    "              'solver' : ['liblinear']}\n",
    "\n",
    "grid = GridSearchCV(lr, param_grid = params, cv = 5, verbose = True, n_jobs = -1)\n",
    "best_grid_lr = grid.fit(X_train_scaled, y)\n",
    "best_score_lr = best_grid_lr.best_score_\n",
    "param_search(best_grid_lr,'Logistic Regression')"
   ]
  },
  {
   "cell_type": "code",
   "execution_count": 76,
   "metadata": {},
   "outputs": [
    {
     "name": "stderr",
     "output_type": "stream",
     "text": [
      "[Parallel(n_jobs=-1)]: Using backend LokyBackend with 4 concurrent workers.\n"
     ]
    },
    {
     "name": "stdout",
     "output_type": "stream",
     "text": [
      "Fitting 5 folds for each of 48 candidates, totalling 240 fits\n"
     ]
    },
    {
     "name": "stderr",
     "output_type": "stream",
     "text": [
      "[Parallel(n_jobs=-1)]: Done 175 tasks      | elapsed:    0.6s\n"
     ]
    },
    {
     "name": "stdout",
     "output_type": "stream",
     "text": [
      "KNearestNeighbours\n",
      "Best Score: 0.7312808210049314\n",
      "Best Parameters: {'algorithm': 'auto', 'n_neighbors': 7, 'p': 2, 'weights': 'distance'}\n"
     ]
    },
    {
     "name": "stderr",
     "output_type": "stream",
     "text": [
      "[Parallel(n_jobs=-1)]: Done 240 out of 240 | elapsed:    0.8s finished\n"
     ]
    }
   ],
   "source": [
    "params = {'n_neighbors' : [3,5,7,9],\n",
    "              'weights' : ['uniform', 'distance'],\n",
    "              'algorithm' : ['auto', 'ball_tree','kd_tree'],\n",
    "              'p' : [1,2]}\n",
    "grid = GridSearchCV(kn, param_grid = params, cv = 5, verbose = True, n_jobs = -1)\n",
    "best_grid = grid.fit(X_train_scaled, y)\n",
    "best_score_kn = best_grid.best_score_\n",
    "param_search(best_grid, 'KNearestNeighbours')"
   ]
  },
  {
   "cell_type": "code",
   "execution_count": 77,
   "metadata": {},
   "outputs": [
    {
     "name": "stderr",
     "output_type": "stream",
     "text": [
      "[Parallel(n_jobs=-1)]: Using backend LokyBackend with 4 concurrent workers.\n"
     ]
    },
    {
     "name": "stdout",
     "output_type": "stream",
     "text": [
      "Fitting 5 folds for each of 60 candidates, totalling 300 fits\n"
     ]
    },
    {
     "name": "stderr",
     "output_type": "stream",
     "text": [
      "[Parallel(n_jobs=-1)]: Done 128 tasks      | elapsed:    6.9s\n"
     ]
    },
    {
     "name": "stdout",
     "output_type": "stream",
     "text": [
      "SVC\n",
      "Best Score: 0.7312808210049314\n",
      "Best Parameters: {'algorithm': 'auto', 'n_neighbors': 7, 'p': 2, 'weights': 'distance'}\n"
     ]
    },
    {
     "name": "stderr",
     "output_type": "stream",
     "text": [
      "[Parallel(n_jobs=-1)]: Done 300 out of 300 | elapsed:  6.2min finished\n"
     ]
    }
   ],
   "source": [
    "params = {'kernel': ['rbf', 'linear', 'poly'], \n",
    "          'gamma': [.1,.5,1,2,5],\n",
    "            'C': [.1, 1, 10, 100]}\n",
    "    \n",
    "grid = RandomizedSearchCV(svc, param_distributions = params, n_iter = 100, cv = 5, verbose = True, n_jobs = -1)\n",
    "best_grid_svc = grid.fit(X_train_scaled, y)\n",
    "best_score_svc = best_grid_svc.best_score_\n",
    "param_search(best_grid, 'SVC')"
   ]
  },
  {
   "cell_type": "code",
   "execution_count": 78,
   "metadata": {},
   "outputs": [
    {
     "name": "stderr",
     "output_type": "stream",
     "text": [
      "[Parallel(n_jobs=-1)]: Using backend LokyBackend with 4 concurrent workers.\n"
     ]
    },
    {
     "name": "stdout",
     "output_type": "stream",
     "text": [
      "Fitting 5 folds for each of 100 candidates, totalling 500 fits\n"
     ]
    },
    {
     "name": "stderr",
     "output_type": "stream",
     "text": [
      "[Parallel(n_jobs=-1)]: Done  42 tasks      | elapsed:   16.2s\n",
      "[Parallel(n_jobs=-1)]: Done 192 tasks      | elapsed:  1.2min\n",
      "[Parallel(n_jobs=-1)]: Done 442 tasks      | elapsed:  2.8min\n",
      "[Parallel(n_jobs=-1)]: Done 500 out of 500 | elapsed:  3.2min finished\n"
     ]
    },
    {
     "name": "stdout",
     "output_type": "stream",
     "text": [
      "Random Forest\n",
      "Best Score: 0.7557243769159003\n",
      "Best Parameters: {'n_estimators': 400, 'min_samples_split': 2, 'min_samples_leaf': 3, 'max_features': 'auto', 'max_depth': 15, 'criterion': 'entropy', 'bootstrap': True}\n"
     ]
    }
   ],
   "source": [
    "params =  {'n_estimators': [400,450,500,550],\n",
    "               'criterion':['gini','entropy'],\n",
    "                                  'bootstrap': [True],\n",
    "                                  'max_depth': [15, 20, 25],\n",
    "                                  'max_features': ['auto','sqrt', 10],\n",
    "                                  'min_samples_leaf': [2,3],\n",
    "                                  'min_samples_split': [2,3]}\n",
    "                                  \n",
    "grid = RandomizedSearchCV(rf, param_distributions = params, n_iter = 100, cv = 5, verbose = True, n_jobs = -1)\n",
    "best_grid_rf = grid.fit(X_train_scaled, y)\n",
    "best_score_rf = best_grid_rf.best_score_\n",
    "param_search(best_grid_rf, 'Random Forest')"
   ]
  },
  {
   "cell_type": "code",
   "execution_count": 79,
   "metadata": {},
   "outputs": [
    {
     "name": "stdout",
     "output_type": "stream",
     "text": [
      "Fitting 5 folds for each of 243 candidates, totalling 1215 fits\n"
     ]
    },
    {
     "name": "stderr",
     "output_type": "stream",
     "text": [
      "[Parallel(n_jobs=-1)]: Using backend LokyBackend with 4 concurrent workers.\n",
      "[Parallel(n_jobs=-1)]: Done  42 tasks      | elapsed:    6.3s\n",
      "[Parallel(n_jobs=-1)]: Done 192 tasks      | elapsed:   26.9s\n",
      "[Parallel(n_jobs=-1)]: Done 442 tasks      | elapsed:  1.1min\n",
      "[Parallel(n_jobs=-1)]: Done 792 tasks      | elapsed:  1.8min\n",
      "[Parallel(n_jobs=-1)]: Done 1215 out of 1215 | elapsed:  2.9min finished\n"
     ]
    },
    {
     "name": "stdout",
     "output_type": "stream",
     "text": [
      "XGBoost\n",
      "Best Score: 0.7312808210049314\n",
      "Best Parameters: {'algorithm': 'auto', 'n_neighbors': 7, 'p': 2, 'weights': 'distance'}\n"
     ]
    }
   ],
   "source": [
    "params = {\n",
    "    'n_estimators': [450,500,550],\n",
    "    'colsample_bytree': [0.75,0.8,0.85],\n",
    "    'max_depth': [None],\n",
    "    'reg_alpha': [1],\n",
    "    'reg_lambda': [2, 5, 10],\n",
    "    'subsample': [0.55, 0.6, .65],\n",
    "    'learning_rate':[0.5],\n",
    "    'gamma':[.5,1,2],\n",
    "    'min_child_weight':[0.01],\n",
    "    'sampling_method': ['uniform']\n",
    "}\n",
    "\n",
    "grid = GridSearchCV(xgb, param_grid = params, cv = 5, verbose = True, n_jobs = -1)\n",
    "best_grid_xgb = grid.fit(X_train_scaled, y)\n",
    "best_score_xgb = best_grid_xgb.best_score_\n",
    "param_search(best_grid, 'XGBoost')"
   ]
  },
  {
   "cell_type": "code",
   "execution_count": 80,
   "metadata": {},
   "outputs": [
    {
     "data": {
      "text/html": [
       "<style  type=\"text/css\" >\n",
       "    #T_492f461e_01aa_11eb_bc7f_f48e38f850c0row0_col1 {\n",
       "            background-color:  #8cc666;\n",
       "            color:  #000000;\n",
       "        }    #T_492f461e_01aa_11eb_bc7f_f48e38f850c0row0_col2 {\n",
       "            background-color:  #008066;\n",
       "            color:  #f1f1f1;\n",
       "        }    #T_492f461e_01aa_11eb_bc7f_f48e38f850c0row1_col1 {\n",
       "            background-color:  #219066;\n",
       "            color:  #000000;\n",
       "        }    #T_492f461e_01aa_11eb_bc7f_f48e38f850c0row1_col2 {\n",
       "            background-color:  #018066;\n",
       "            color:  #f1f1f1;\n",
       "        }    #T_492f461e_01aa_11eb_bc7f_f48e38f850c0row2_col1 {\n",
       "            background-color:  #008066;\n",
       "            color:  #f1f1f1;\n",
       "        }    #T_492f461e_01aa_11eb_bc7f_f48e38f850c0row2_col2 {\n",
       "            background-color:  #038166;\n",
       "            color:  #f1f1f1;\n",
       "        }    #T_492f461e_01aa_11eb_bc7f_f48e38f850c0row3_col1 {\n",
       "            background-color:  #6fb766;\n",
       "            color:  #000000;\n",
       "        }    #T_492f461e_01aa_11eb_bc7f_f48e38f850c0row3_col2 {\n",
       "            background-color:  #379b66;\n",
       "            color:  #000000;\n",
       "        }    #T_492f461e_01aa_11eb_bc7f_f48e38f850c0row4_col1 {\n",
       "            background-color:  #78bc66;\n",
       "            color:  #000000;\n",
       "        }    #T_492f461e_01aa_11eb_bc7f_f48e38f850c0row4_col2 {\n",
       "            background-color:  #8ec666;\n",
       "            color:  #000000;\n",
       "        }    #T_492f461e_01aa_11eb_bc7f_f48e38f850c0row5_col1 {\n",
       "            background-color:  #c1e066;\n",
       "            color:  #000000;\n",
       "        }    #T_492f461e_01aa_11eb_bc7f_f48e38f850c0row5_col2 {\n",
       "            background-color:  #e4f266;\n",
       "            color:  #000000;\n",
       "        }    #T_492f461e_01aa_11eb_bc7f_f48e38f850c0row6_col1 {\n",
       "            background-color:  #ffff66;\n",
       "            color:  #000000;\n",
       "        }    #T_492f461e_01aa_11eb_bc7f_f48e38f850c0row6_col2 {\n",
       "            background-color:  #fafc66;\n",
       "            color:  #000000;\n",
       "        }    #T_492f461e_01aa_11eb_bc7f_f48e38f850c0row7_col1 {\n",
       "            background-color:  #bcde66;\n",
       "            color:  #000000;\n",
       "        }    #T_492f461e_01aa_11eb_bc7f_f48e38f850c0row7_col2 {\n",
       "            background-color:  #ffff66;\n",
       "            color:  #000000;\n",
       "        }</style><table id=\"T_492f461e_01aa_11eb_bc7f_f48e38f850c0\" ><thead>    <tr>        <th class=\"blank level0\" ></th>        <th class=\"col_heading level0 col0\" >Model Name</th>        <th class=\"col_heading level0 col1\" >cv_mean_score</th>        <th class=\"col_heading level0 col2\" >f1_score</th>        <th class=\"col_heading level0 col3\" >tuned_score</th>    </tr></thead><tbody>\n",
       "                <tr>\n",
       "                        <th id=\"T_492f461e_01aa_11eb_bc7f_f48e38f850c0level0_row0\" class=\"row_heading level0 row0\" >3</th>\n",
       "                        <td id=\"T_492f461e_01aa_11eb_bc7f_f48e38f850c0row0_col0\" class=\"data row0 col0\" >KNearestNeighbours</td>\n",
       "                        <td id=\"T_492f461e_01aa_11eb_bc7f_f48e38f850c0row0_col1\" class=\"data row0 col1\" >0.721525</td>\n",
       "                        <td id=\"T_492f461e_01aa_11eb_bc7f_f48e38f850c0row0_col2\" class=\"data row0 col2\" >0.759633</td>\n",
       "                        <td id=\"T_492f461e_01aa_11eb_bc7f_f48e38f850c0row0_col3\" class=\"data row0 col3\" >0.731281</td>\n",
       "            </tr>\n",
       "            <tr>\n",
       "                        <th id=\"T_492f461e_01aa_11eb_bc7f_f48e38f850c0level0_row1\" class=\"row_heading level0 row1\" >5</th>\n",
       "                        <td id=\"T_492f461e_01aa_11eb_bc7f_f48e38f850c0row1_col0\" class=\"data row1 col0\" >SVM</td>\n",
       "                        <td id=\"T_492f461e_01aa_11eb_bc7f_f48e38f850c0row1_col1\" class=\"data row1 col1\" >0.757350</td>\n",
       "                        <td id=\"T_492f461e_01aa_11eb_bc7f_f48e38f850c0row1_col2\" class=\"data row1 col2\" >0.759259</td>\n",
       "                        <td id=\"T_492f461e_01aa_11eb_bc7f_f48e38f850c0row1_col3\" class=\"data row1 col3\" >0.770399</td>\n",
       "            </tr>\n",
       "            <tr>\n",
       "                        <th id=\"T_492f461e_01aa_11eb_bc7f_f48e38f850c0level0_row2\" class=\"row_heading level0 row2\" >1</th>\n",
       "                        <td id=\"T_492f461e_01aa_11eb_bc7f_f48e38f850c0row2_col0\" class=\"data row2 col0\" >LogisticRegression</td>\n",
       "                        <td id=\"T_492f461e_01aa_11eb_bc7f_f48e38f850c0row2_col1\" class=\"data row2 col1\" >0.768759</td>\n",
       "                        <td id=\"T_492f461e_01aa_11eb_bc7f_f48e38f850c0row2_col2\" class=\"data row2 col2\" >0.758879</td>\n",
       "                        <td id=\"T_492f461e_01aa_11eb_bc7f_f48e38f850c0row2_col3\" class=\"data row2 col3\" >0.772038</td>\n",
       "            </tr>\n",
       "            <tr>\n",
       "                        <th id=\"T_492f461e_01aa_11eb_bc7f_f48e38f850c0level0_row3\" class=\"row_heading level0 row3\" >0</th>\n",
       "                        <td id=\"T_492f461e_01aa_11eb_bc7f_f48e38f850c0row3_col0\" class=\"data row3 col0\" >GaussianNaiveBayes</td>\n",
       "                        <td id=\"T_492f461e_01aa_11eb_bc7f_f48e38f850c0row3_col1\" class=\"data row3 col1\" >0.731307</td>\n",
       "                        <td id=\"T_492f461e_01aa_11eb_bc7f_f48e38f850c0row3_col2\" class=\"data row3 col2\" >0.747628</td>\n",
       "                        <td id=\"T_492f461e_01aa_11eb_bc7f_f48e38f850c0row3_col3\" class=\"data row3 col3\" >NA</td>\n",
       "            </tr>\n",
       "            <tr>\n",
       "                        <th id=\"T_492f461e_01aa_11eb_bc7f_f48e38f850c0level0_row4\" class=\"row_heading level0 row4\" >4</th>\n",
       "                        <td id=\"T_492f461e_01aa_11eb_bc7f_f48e38f850c0row4_col0\" class=\"data row4 col0\" >RandomForest</td>\n",
       "                        <td id=\"T_492f461e_01aa_11eb_bc7f_f48e38f850c0row4_col1\" class=\"data row4 col1\" >0.728055</td>\n",
       "                        <td id=\"T_492f461e_01aa_11eb_bc7f_f48e38f850c0row4_col2\" class=\"data row4 col2\" >0.728653</td>\n",
       "                        <td id=\"T_492f461e_01aa_11eb_bc7f_f48e38f850c0row4_col3\" class=\"data row4 col3\" >0.755724</td>\n",
       "            </tr>\n",
       "            <tr>\n",
       "                        <th id=\"T_492f461e_01aa_11eb_bc7f_f48e38f850c0level0_row5\" class=\"row_heading level0 row5\" >6</th>\n",
       "                        <td id=\"T_492f461e_01aa_11eb_bc7f_f48e38f850c0row5_col0\" class=\"data row5 col0\" >XGBoost</td>\n",
       "                        <td id=\"T_492f461e_01aa_11eb_bc7f_f48e38f850c0row5_col1\" class=\"data row5 col1\" >0.703559</td>\n",
       "                        <td id=\"T_492f461e_01aa_11eb_bc7f_f48e38f850c0row5_col2\" class=\"data row5 col2\" >0.709924</td>\n",
       "                        <td id=\"T_492f461e_01aa_11eb_bc7f_f48e38f850c0row5_col3\" class=\"data row5 col3\" >0.747594</td>\n",
       "            </tr>\n",
       "            <tr>\n",
       "                        <th id=\"T_492f461e_01aa_11eb_bc7f_f48e38f850c0level0_row6\" class=\"row_heading level0 row6\" >2</th>\n",
       "                        <td id=\"T_492f461e_01aa_11eb_bc7f_f48e38f850c0row6_col0\" class=\"data row6 col0\" >DecisionTree</td>\n",
       "                        <td id=\"T_492f461e_01aa_11eb_bc7f_f48e38f850c0row6_col1\" class=\"data row6 col1\" >0.682407</td>\n",
       "                        <td id=\"T_492f461e_01aa_11eb_bc7f_f48e38f850c0row6_col2\" class=\"data row6 col2\" >0.704950</td>\n",
       "                        <td id=\"T_492f461e_01aa_11eb_bc7f_f48e38f850c0row6_col3\" class=\"data row6 col3\" >NA</td>\n",
       "            </tr>\n",
       "            <tr>\n",
       "                        <th id=\"T_492f461e_01aa_11eb_bc7f_f48e38f850c0level0_row7\" class=\"row_heading level0 row7\" >7</th>\n",
       "                        <td id=\"T_492f461e_01aa_11eb_bc7f_f48e38f850c0row7_col0\" class=\"data row7 col0\" >LightGB</td>\n",
       "                        <td id=\"T_492f461e_01aa_11eb_bc7f_f48e38f850c0row7_col1\" class=\"data row7 col1\" >0.705211</td>\n",
       "                        <td id=\"T_492f461e_01aa_11eb_bc7f_f48e38f850c0row7_col2\" class=\"data row7 col2\" >0.703846</td>\n",
       "                        <td id=\"T_492f461e_01aa_11eb_bc7f_f48e38f850c0row7_col3\" class=\"data row7 col3\" >NA</td>\n",
       "            </tr>\n",
       "    </tbody></table>"
      ],
      "text/plain": [
       "<pandas.io.formats.style.Styler at 0x19b72884f48>"
      ]
     },
     "metadata": {},
     "output_type": "display_data"
    }
   ],
   "source": [
    "raw_models.loc[0, 'tuned_score'] = 'NA'\n",
    "raw_models.loc[1, 'tuned_score'] = best_score_lr\n",
    "raw_models.loc[2, 'tuned_score'] = 'NA'\n",
    "raw_models.loc[3, 'tuned_score'] = best_score_kn\n",
    "raw_models.loc[4, 'tuned_score'] = best_score_rf\n",
    "raw_models.loc[5, 'tuned_score'] = best_score_svc\n",
    "raw_models.loc[6, 'tuned_score'] = best_score_xgb\n",
    "raw_models.loc[7, 'tuned_score'] = 'NA'\n",
    "\n",
    "display(raw_models.style.background_gradient(cmap='summer_r'))"
   ]
  },
  {
   "cell_type": "markdown",
   "metadata": {},
   "source": [
    "**Observations:**\n",
    "- I looked for the optimal parametres for the top 5 models. The models that did not get the parametres tuned have the value NA in the tuned_score column.\n",
    "- The best final performance on the given dataset goes to SVM, whereas if I gave a bigger weight to the CV score, SVM could have been outperformed by LR.\n",
    "- There is a lot of room for improvement especially in the feature engineering field that has been done before implementing and tuning the classifiers.\n",
    "\n",
    "To get the better overview of the performance of the classifiers, I'll have a look at the features that two best classifiers consider as the most important."
   ]
  },
  {
   "cell_type": "markdown",
   "metadata": {},
   "source": [
    "### Feature importance"
   ]
  },
  {
   "cell_type": "code",
   "execution_count": 58,
   "metadata": {},
   "outputs": [
    {
     "name": "stdout",
     "output_type": "stream",
     "text": [
      "[[-1.15764110e-05 -4.19440421e-05  0.00000000e+00  3.44549116e-04\n",
      "  -1.39365303e-03  1.92672192e+00  0.00000000e+00  0.00000000e+00\n",
      "  -3.40418630e-01  0.00000000e+00  0.00000000e+00 -1.39632179e-01\n",
      "   0.00000000e+00  0.00000000e+00 -1.37588904e-01  3.87914662e-01\n",
      "   0.00000000e+00]]\n"
     ]
    }
   ],
   "source": [
    "m = best_grid_lr.best_estimator_.fit(X_train, y)\n",
    "\n",
    "print(np.std(X_train_scaled, 0)*m.coef_)"
   ]
  },
  {
   "cell_type": "code",
   "execution_count": 59,
   "metadata": {},
   "outputs": [
    {
     "data": {
      "text/plain": [
       "<matplotlib.axes._subplots.AxesSubplot at 0x19b728cb408>"
      ]
     },
     "execution_count": 59,
     "metadata": {},
     "output_type": "execute_result"
    },
    {
     "data": {
      "image/png": "[encoded data removed]",
      "text/plain": [
       "<Figure size 432x288 with 1 Axes>"
      ]
     },
     "metadata": {},
     "output_type": "display_data"
    }
   ],
   "source": [
    "best_model = best_grid_rf.best_estimator_.fit(X_train, y)\n",
    "\n",
    "feat_importances = pd.Series(best_model.feature_importances_, index=X_train.columns)\n",
    "\n",
    "feat_importances.nlargest(7).plot(kind='barh')"
   ]
  },
  {
   "cell_type": "markdown",
   "metadata": {},
   "source": [
    "Both of the classifiers consider \"Credit History\", \"Applicant Income\" and \"Loan Amount\" as the features that have the biggest impact on the predictions.<br>\n",
    "I'm plotting Partial Dependence Plots (PDP) to get the insights more detailed insights, namely, how big change in predictions cause the specific values of those features."
   ]
  },
  {
   "cell_type": "code",
   "execution_count": 60,
   "metadata": {},
   "outputs": [
    {
     "data": {
      "image/png": "[encoded data removed]",
      "text/plain": [
       "<Figure size 1080x684 with 2 Axes>"
      ]
     },
     "metadata": {},
     "output_type": "display_data"
    }
   ],
   "source": [
    "from pdpbox import pdp\n",
    "\n",
    "pdp_qual = pdp.pdp_isolate(model=best_grid_rf.best_estimator_, dataset = X_test, model_features=X_test.columns.tolist(), feature='Credit_History')\n",
    "\n",
    "pdp.pdp_plot(pdp_qual, 'Credit History')\n",
    "plt.show()"
   ]
  },
  {
   "cell_type": "code",
   "execution_count": 61,
   "metadata": {},
   "outputs": [
    {
     "data": {
      "image/png": "[encoded data removed]",
      "text/plain": [
       "<Figure size 1080x684 with 2 Axes>"
      ]
     },
     "metadata": {},
     "output_type": "display_data"
    }
   ],
   "source": [
    "pdp_qual = pdp.pdp_isolate(model=best_grid_rf.best_estimator_, dataset = X_test, model_features=X_test.columns.tolist(), feature='ApplicantIncome')\n",
    "\n",
    "pdp.pdp_plot(pdp_qual, 'Applicant Income')\n",
    "plt.show()"
   ]
  },
  {
   "cell_type": "code",
   "execution_count": 62,
   "metadata": {},
   "outputs": [
    {
     "data": {
      "image/png": "[encoded data removed]",
      "text/plain": [
       "<Figure size 1080x684 with 2 Axes>"
      ]
     },
     "metadata": {},
     "output_type": "display_data"
    }
   ],
   "source": [
    "pdp_qual = pdp.pdp_isolate(model=best_grid_rf.best_estimator_, dataset = X_test, model_features=X_test.columns.tolist(), feature='LoanAmount')\n",
    "\n",
    "pdp.pdp_plot(pdp_qual, 'Loan Amount')\n",
    "plt.show()"
   ]
  },
  {
   "cell_type": "markdown",
   "metadata": {},
   "source": [
    "**Observations:**\n",
    "- You're more likely to get a loan if you've taken some credit in the past already. That makes sense - the classifiers considers you as more trustworthy person :)\n",
    "- There is a slight negative slope in the Applicant Income PDP that says: the more income you have, the less likely you're to get a loan. That in fact doesn't make sense. Keep in mind that in the early phase of data exploration I detected an entry with a very high value of Applicant Income that got a negative decision regarding the loan. Back then I was unsure if it's an outlier, I still don't know that, but I can see that that one specific entry (because of having quite small dataset) may cause fake predictions.\n",
    "- The more loan you want to get, the more unlikely you are to successfully get it. According to the plot the biggest chances you have with a loan ≈ 130."
   ]
  },
  {
   "cell_type": "code",
   "execution_count": 63,
   "metadata": {},
   "outputs": [
    {
     "data": {
      "text/plain": [
       "<matplotlib.axes._subplots.AxesSubplot at 0x19b72b71108>"
      ]
     },
     "execution_count": 63,
     "metadata": {},
     "output_type": "execute_result"
    },
    {
     "data": {
      "image/png": "[encoded data removed]",
      "text/plain": [
       "<Figure size 432x288 with 1 Axes>"
      ]
     },
     "metadata": {},
     "output_type": "display_data"
    }
   ],
   "source": [
    "X_train['ApplicantIncome'] = np.log(X_train.ApplicantIncome+1)\n",
    "X_train['ApplicantIncome'].hist()\n",
    "# NOT USED"
   ]
  },
  {
   "cell_type": "code",
   "execution_count": 64,
   "metadata": {},
   "outputs": [],
   "source": [
    "# X_train['LoanAmount'] = np.log(X_train.LoanAmount+1)\n",
    "# X_train['LoanAmount'].hist()  \n",
    "# NOT USED"
   ]
  },
  {
   "cell_type": "code",
   "execution_count": 65,
   "metadata": {},
   "outputs": [],
   "source": [
    "X_train_scaled = scaler.fit_transform(X_train)"
   ]
  },
  {
   "cell_type": "code",
   "execution_count": 66,
   "metadata": {},
   "outputs": [
    {
     "name": "stdout",
     "output_type": "stream",
     "text": [
      "[0.80487805 0.7398374  0.72357724 0.78861789 0.80327869]\n",
      "0.7720378515260563\n"
     ]
    }
   ],
   "source": [
    "cv = cross_val_score(best_grid_lr.best_estimator_, X_train_scaled, y, cv=5)\n",
    "cv_list.append(cv.mean())\n",
    "print(cv)\n",
    "print(cv.mean())"
   ]
  },
  {
   "cell_type": "markdown",
   "metadata": {},
   "source": [
    "I tried to normalize ApplicantIncome and LoanAmount features as their distribution is far from normal one and check how it influenced our model. The effect is close to 0, so I abandoned this idea.\n",
    "\n",
    "At the end I'm saving the predictions of the three best models to the csv files."
   ]
  },
  {
   "cell_type": "code",
   "execution_count": 67,
   "metadata": {},
   "outputs": [],
   "source": [
    "y_hat_lr = best_grid_lr.predict(X_test_scaled).astype(int)\n",
    "y_hat_svc = best_grid_svc.predict(X_test_scaled).astype(int)\n",
    "y_hat_rf = best_grid_rf.predict(X_test_scaled).astype(int)"
   ]
  },
  {
   "cell_type": "code",
   "execution_count": 68,
   "metadata": {},
   "outputs": [],
   "source": [
    "pred_lr = {'Loan_ID': test.index, 'Loan_Status': y_hat_lr}\n",
    "submission_1 = pd.DataFrame(data=pred_lr)\n",
    "\n",
    "pred_svc = {'Loan_ID': test.index, 'Loan_Status': y_hat_svc}\n",
    "submission_2 = pd.DataFrame(data=pred_svc)\n",
    "\n",
    "pred_rf = {'Loan_ID': test.index, 'Loan_Status': y_hat_rf}\n",
    "submission_3 = pd.DataFrame(data=pred_rf)"
   ]
  },
  {
   "cell_type": "code",
   "execution_count": 69,
   "metadata": {},
   "outputs": [
    {
     "name": "stdout",
     "output_type": "stream",
     "text": [
      "Submission completed 2020-09-28 18:15:26.443148\n"
     ]
    }
   ],
   "source": [
    "from datetime import datetime\n",
    "\n",
    "submission_1.to_csv('submission_lr.csv', index=False)\n",
    "submission_2.to_csv('submission_svc.csv', index=False)\n",
    "submission_3.to_csv('submission_rf.csv', index=False)\n",
    "\n",
    "print('Submission completed', datetime.now())"
   ]
  },
  {
   "cell_type": "markdown",
   "metadata": {},
   "source": [
    "### Conclusion\n",
    "\n",
    "In this classification project I tried to automate the loan eligibility process based on data provided by the customers.<br>\n",
    "That's a very common problem among insurance companies, whereas among all industries insurance field has one of the largest use of data science and analytics methods.<br>\n",
    "I went through basic EDA methods and ended up implementing 8 different classifiers.<br>\n",
    "The input data wasn't very messy, I didn't spend too much time on the feature engineering - there's still a big room for improvement in this field, especially when it comes to coming up with an idea for new features.<br>\n",
    "The model that performed the best was LogisticRegression with the accuracy close to 77.5%. Right behind was SVM and RandomForest.<br>\n",
    "Work on this project could give me a proper, basic overview of the challenges the insurance companies face and what variables influence the outcome the most."
   ]
  },
  {
   "cell_type": "markdown",
   "metadata": {},
   "source": [
    "### Future work and possible improvements\n",
    "\n",
    "- As already mentioned - deeper feature engineering with an emphasis on new features creation and development of combinations between existing ones can give a significant boost in model's performance.<br>\n",
    "- Wider range of grid search on the chosen classifiers could also lead to some improvements, together with plotting RocAucCurves for each of them what would give a better insight in precision/recall pattern.<br>\n",
    "- Usage of more advanced regression techniques like stacking or blending, testing different combinations of classifiers on the VotingClassifier (soft and hard). Those techniques are also definitely worth giving a try.\n",
    "\n",
    "As soon as time and processing power of my dying computer let me, I'll come back to this project for further improvements and experiments.<br>\n",
    "\n",
    "<i>Paweł Sulewski</i>"
   ]
  }
 ],
 "metadata": {
  "kernelspec": {
   "display_name": "Python 3",
   "language": "python",
   "name": "python3"
  },
  "language_info": {
   "codemirror_mode": {
    "name": "ipython",
    "version": 3
   },
   "file_extension": ".py",
   "mimetype": "text/x-python",
   "name": "python",
   "nbconvert_exporter": "python",
   "pygments_lexer": "ipython3",
   "version": "3.7.6"
  }
 },
 "nbformat": 4,
 "nbformat_minor": 4
}
